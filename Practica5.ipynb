{
 "cells": [
  {
   "cell_type": "markdown",
   "metadata": {},
   "source": [
    "### Práctica de Web Scraping\n",
    "\n",
    "Se va a considerar una de las páginas vista en la teoría que contiene fotos de trenes:https://www.vialibre-ffe.com/multi_foto.asp?cs=mult. En esta página aparece un menú con varios grupos de fotos de trenes. A su vez, cada grupo contiene un conjunto de subgrupos de fotos. Por ejemplo, el grupo __Renfe operadora__ se encuentra en la página https://www.vialibre-ffe.com/multi_ind_fotos.asp?cat=mu01."
   ]
  },
  {
   "cell_type": "code",
   "execution_count": null,
   "metadata": {
    "collapsed": true
   },
   "outputs": [],
   "source": [
    "from IPython.display import Image\n",
    "Image(filename='Captura1.png')"
   ]
  },
  {
   "cell_type": "markdown",
   "metadata": {},
   "source": [
    "Dentro de este grupo por ejemplo se encuentra el subgrupo __Serie120 en Irún-Hendaya__ en la página https://www.vialibre-ffe.com/multi_galeria.asp?gal=524. "
   ]
  },
  {
   "cell_type": "code",
   "execution_count": null,
   "metadata": {
    "collapsed": true
   },
   "outputs": [],
   "source": [
    "from IPython.display import Image\n",
    "Image(filename='Captura2.png')"
   ]
  },
  {
   "cell_type": "markdown",
   "metadata": {},
   "source": [
    "En dicho subgrupo se encuentran las imágenes de dicho subgrupo. Por ejemplo, a continuación, se muestra una de las imágenes del subgrupo __Serie120 en Irún-Hendaya__"
   ]
  },
  {
   "cell_type": "code",
   "execution_count": null,
   "metadata": {
    "collapsed": true
   },
   "outputs": [],
   "source": [
    "from IPython.display import Image\n",
    "Image(filename='Captura1.png')\n",
    "#for i in range(1,4):\n",
    "#    Image(filename='Captura'+str(i)+'.png')"
   ]
  },
  {
   "cell_type": "markdown",
   "metadata": {},
   "source": [
    "Las imágenes contenidas en dicha página se pueden encontrar en las etiquetas __&lt;li> &lt;img ...__ que son hijas de la etiqueta __&lt;ul class=\"pgwSlideshow\">__. Por ejemplo en la página de ejemplo, la primera imagen de dicha página es:\n",
    "\n",
    "   __&lt;li>&lt;img src=\"multimedia/galerias/IRUN120/2Alvia_120.jpg\" alt=\"\" data-description=\"\">&lt;/li>__\n",
    "   \n",
    "A continuación, se puede ver el contenido html de esa página."
   ]
  },
  {
   "cell_type": "code",
   "execution_count": null,
   "metadata": {
    "collapsed": true
   },
   "outputs": [],
   "source": [
    "import requests\n",
    "url=\"https://www.vialibre-ffe.com/multi_galeria.asp?gal=524\"\n",
    "r = requests.get(url)\n",
    "html = r.text\n",
    "print(html)"
   ]
  },
  {
   "cell_type": "markdown",
   "metadata": {},
   "source": [
    "Se pide:\n",
    "\n",
    " 1. Crear un programa en __Python__ que muestre un menú con los grupos de fotos, y que pregunte al usuario que grupo de fotos quiere visitar. Se puede asociar a cada grupo un número, y solicitar al usuario que introduzca por teclado el número del grupo. A continuación, se mostrará los subgrupos de ese grupo, y se le preguntará nuevamente al usuario que subgrupo de fotos quiere procesar. Igual que antes, se puede asociar a cada subgrupo un número, y que introduzca por teclado el número del subgrupo. Como resultado se creará un directorio en el disco local para el subgrupo elegido y en el directorio se bajarán las imágenes de los trenes. Se imprimirá por pantalla las urls de las imágenes que se están bajando. Toda la información utilizada en el programa, debe ser extraida de las páginas consideradas usando BeautifulSoup[6 puntos]\n",
    " \n",
    " 2. Crear un minibuscador en __Python__ que pregunte al usuario un conjunto de palabras clave, y  recorra el sitio web buscando todos los subgrupos en cuyo título aparezca alguna de las palabras claves. Como resultado debe mostrar los subgrupos encontrados, listando el nombre y la url de cada subgrupo [4 puntos]"
   ]
  },
  {
   "cell_type": "markdown",
   "metadata": {
    "collapsed": true
   },
   "source": [
    "# Normas de entrega\n",
    "\n",
    "* Fecha tope de entrega: 18/11/2017\n",
    "* La entrega se realizará subiendo al campus virtual un notebook de Jupyter con la solución. El archivo tendrá como nombre WebScraping_GrupoX donde X será el número de grupo correspondiente.\n"
   ]
  },
  {
   "cell_type": "code",
   "execution_count": 25,
   "metadata": {
    "collapsed": true
   },
   "outputs": [],
   "source": [
    "import urllib\n",
    "from bs4 import BeautifulSoup\n",
    "\n",
    "def dig_gallery(url):\n",
    "    html=urllib.request.urlopen(url).read()\n",
    "    soup=BeautifulSoup(html, 'html.parser')\n",
    "    etiquetas=soup(\"a\",{'class': 'tit_art_dest'})\n",
    "    cont = 0\n",
    "    dic_gallery = {}\n",
    "    for etiqueta in etiquetas:\n",
    "        tag = etiqueta.get(\"href\",None)\n",
    "        name = etiqueta.contents[0]\n",
    "        dic_gallery[cont] = (name, tag)\n",
    "        cont = cont+1\n",
    "    return dic_gallery\n",
    "\n",
    "def print_gallery(dic):\n",
    "    for x in dic:\n",
    "        print (str(x) + \" - \" + dic[x][0])\n",
    "\n",
    "def dig_images(url):\n",
    "    html=urllib.request.urlopen(url).read()\n",
    "    soup=BeautifulSoup(html, 'html.parser')\n",
    "    etiquetas=soup(\"ul\",{'class': 'pgwSlideshow'})\n",
    "    for etiqueta in etiquetas:\n",
    "        images = etiqueta.find_all('img')\n",
    "    return images"
   ]
  },
  {
   "cell_type": "code",
   "execution_count": 27,
   "metadata": {},
   "outputs": [
    {
     "name": "stdout",
     "output_type": "stream",
     "text": [
      "0 - Renfe Operadora\n",
      "1 - \n",
      "\t\t\t\t\t\tAutonómicos\n",
      "2 - Metropolitanos\n",
      "3 - Tranvías\n",
      "4 - Otros operadores\n",
      "5 - Infraestructuras\n",
      "6 - Instalaciones\n",
      "7 - Estaciones\n",
      "8 - Internacional\n",
      "9 - Históricas\n",
      "10 - Museos y Trenes\n",
      "11 - Varios\n",
      "Selecciona una galería: 0\n",
      "\n",
      "\n",
      "0 - Serie120 en Irún-Hendaya\n",
      "1 - Transporte de de residuos por ferrocarril en Galicia\n",
      "2 - Servicios en el Corredor Mediterráneo\n",
      "3 - Trenes turísticos de Renfe en 2014\n",
      "4 - Tren turístico Tarraco, regreso del Talgo III\n",
      "5 - Trenes internacionales, antes de la alta velocidad\n",
      "6 - El \"Platanito\" primer pendolino español\n",
      "7 - Serie 114 de Renfe, alta velocidad para Media Distancia\n",
      "8 - La locomotora de vapor VA 8 antes de su reparación\n",
      "9 - La locomotora VA 8 en pruebas tras su restauración\n",
      "10 - Proceso de rehabilitación de la locomotora VA 8\n",
      "11 - AVE  Barcelona Málaga\n",
      "12 - Alvia Madrid-Orense\n",
      "13 - Trenes Arco\n",
      "14 - Trenes estrella\n",
      "15 - Talgo 730\n",
      "16 - AVE serie 103\n",
      "17 - Cercedilla-Cotos\n",
      "18 - Los nuevos trenes 114 de alta velocidad\n",
      "19 - Tren serie 120\n",
      "20 - UT 440\n",
      "21 - Civia\n",
      "22 - AVE 104\n",
      "23 - Locomotoras de la serie 333 de Renfe\n",
      "24 - Tren de Cervantes\n",
      "25 - 252 Málaga\n",
      "26 - El primer viaje del Ave en España\n",
      "27 - Tiempo de Flamenco\n",
      "28 - Serie 121\n",
      "29 - Serie 599 de Renfe\n",
      "30 - Serie 130\n",
      "31 - Serie 449 para Media Distancia\n",
      "32 - Dados de baja los últimos electrotrenes de la serie 432 de Renfe\n",
      "33 - Un tren de valores: El tren y tú\n",
      "34 - Intercity de Renfe\n",
      "35 - Cercanías en Atocha\n",
      "Selecciona una galería: 0\n",
      "\n",
      "\n",
      "https://www.vialibre-ffe.com/multimedia/galerias/IRUN120/2Alvia_120.jpg\n"
     ]
    },
    {
     "ename": "FileNotFoundError",
     "evalue": "[Errno 2] No such file or directory: '/Serie120 en Irún-Hendaya/0.jpg'",
     "output_type": "error",
     "traceback": [
      "\u001b[1;31m---------------------------------------------------------------------------\u001b[0m",
      "\u001b[1;31mFileNotFoundError\u001b[0m                         Traceback (most recent call last)",
      "\u001b[1;32m<ipython-input-27-dc6140bd4dc9>\u001b[0m in \u001b[0;36m<module>\u001b[1;34m()\u001b[0m\n\u001b[0;32m     26\u001b[0m     \u001b[0murl_img\u001b[0m \u001b[1;33m=\u001b[0m \u001b[1;34m\"https://www.vialibre-ffe.com/\"\u001b[0m \u001b[1;33m+\u001b[0m \u001b[0mimg_src\u001b[0m\u001b[1;33m\u001b[0m\u001b[0m\n\u001b[0;32m     27\u001b[0m     \u001b[0mprint\u001b[0m\u001b[1;33m(\u001b[0m\u001b[0murl_img\u001b[0m\u001b[1;33m)\u001b[0m\u001b[1;33m\u001b[0m\u001b[0m\n\u001b[1;32m---> 28\u001b[1;33m     \u001b[0mmanf\u001b[0m\u001b[1;33m=\u001b[0m\u001b[0mopen\u001b[0m\u001b[1;33m(\u001b[0m\u001b[1;34m\"/\"\u001b[0m\u001b[1;33m+\u001b[0m\u001b[0mdir\u001b[0m\u001b[1;33m+\u001b[0m\u001b[1;34m\"/\"\u001b[0m\u001b[1;33m+\u001b[0m\u001b[0mstr\u001b[0m\u001b[1;33m(\u001b[0m\u001b[0mcont\u001b[0m\u001b[1;33m)\u001b[0m\u001b[1;33m+\u001b[0m\u001b[1;34m\".jpg\"\u001b[0m\u001b[1;33m,\u001b[0m\u001b[1;34m\"wb\"\u001b[0m\u001b[1;33m)\u001b[0m\u001b[1;33m\u001b[0m\u001b[0m\n\u001b[0m\u001b[0;32m     29\u001b[0m     \u001b[0mmanf\u001b[0m\u001b[1;33m.\u001b[0m\u001b[0mwrite\u001b[0m\u001b[1;33m(\u001b[0m\u001b[0mimagen\u001b[0m\u001b[1;33m)\u001b[0m\u001b[1;33m\u001b[0m\u001b[0m\n\u001b[0;32m     30\u001b[0m     \u001b[0mcont\u001b[0m \u001b[1;33m=\u001b[0m \u001b[0mcont\u001b[0m \u001b[1;33m+\u001b[0m \u001b[1;36m1\u001b[0m\u001b[1;33m\u001b[0m\u001b[0m\n",
      "\u001b[1;31mFileNotFoundError\u001b[0m: [Errno 2] No such file or directory: '/Serie120 en Irún-Hendaya/0.jpg'"
     ]
    }
   ],
   "source": [
    "import os\n",
    "\n",
    "main = \"https://www.vialibre-ffe.com/multi_foto.asp?cs=mult\"\n",
    "galerias = dig_gallery(main)\n",
    "print_gallery(galerias)\n",
    "\n",
    "select = int(input(\"Selecciona una galería: \"))\n",
    "print (\"\\n\")\n",
    "section = galerias[select][1]\n",
    "url = \"https://www.vialibre-ffe.com/\" + section\n",
    "\n",
    "sub_galerias = dig_gallery(url)\n",
    "print_gallery(sub_galerias)\n",
    "\n",
    "select = int(input(\"Selecciona una galería: \"))\n",
    "print (\"\\n\")\n",
    "section = sub_galerias[select][1]\n",
    "url = \"https://www.vialibre-ffe.com/\" + section\n",
    "dir = sub_galerias[select][0]\n",
    "os.mkdir(dir)\n",
    "\n",
    "imagenes = dig_images(url)\n",
    "cont = 0\n",
    "for img in imagenes:\n",
    "    img_src = img.get('src').strip()\n",
    "    url_img = \"https://www.vialibre-ffe.com/\" + img_src\n",
    "    print(url_img)\n",
    "    manf=open(\"/\"+dir+\"/\"+str(cont)+\".jpg\",\"wb\")\n",
    "    manf.write(imagen)\n",
    "    cont = cont + 1\n",
    "    manf.close()\n",
    "    \n",
    "\n",
    "manf=open(\"tren.jpg\",\"wb\")\n",
    "manf.write(imagen)\n",
    "manf.close()"
   ]
  },
  {
   "cell_type": "code",
   "execution_count": null,
   "metadata": {
    "collapsed": true
   },
   "outputs": [],
   "source": []
  }
 ],
 "metadata": {
  "kernelspec": {
   "display_name": "Python [Root]",
   "language": "python",
   "name": "Python [Root]"
  },
  "language_info": {
   "codemirror_mode": {
    "name": "ipython",
    "version": 3
   },
   "file_extension": ".py",
   "mimetype": "text/x-python",
   "name": "python",
   "nbconvert_exporter": "python",
   "pygments_lexer": "ipython3",
   "version": "3.5.3"
  }
 },
 "nbformat": 4,
 "nbformat_minor": 2
}
