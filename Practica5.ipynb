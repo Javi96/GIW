{
 "cells": [
  {
   "cell_type": "markdown",
   "metadata": {},
   "source": [
    "### Práctica de Web Scraping\n",
    "\n",
    "Se va a considerar una de las páginas vista en la teoría que contiene fotos de trenes:https://www.vialibre-ffe.com/multi_foto.asp?cs=mult. En esta página aparece un menú con varios grupos de fotos de trenes. A su vez, cada grupo contiene un conjunto de subgrupos de fotos. Por ejemplo, el grupo __Renfe operadora__ se encuentra en la página https://www.vialibre-ffe.com/multi_ind_fotos.asp?cat=mu01."
   ]
  },
  {
   "cell_type": "code",
   "execution_count": null,
   "metadata": {
    "collapsed": true
   },
   "outputs": [],
   "source": [
    "from IPython.display import Image\n",
    "Image(filename='Captura1.png')"
   ]
  },
  {
   "cell_type": "markdown",
   "metadata": {},
   "source": [
    "Dentro de este grupo por ejemplo se encuentra el subgrupo __Serie120 en Irún-Hendaya__ en la página https://www.vialibre-ffe.com/multi_galeria.asp?gal=524. "
   ]
  },
  {
   "cell_type": "code",
   "execution_count": null,
   "metadata": {
    "collapsed": true
   },
   "outputs": [],
   "source": [
    "from IPython.display import Image\n",
    "Image(filename='Captura2.png')"
   ]
  },
  {
   "cell_type": "markdown",
   "metadata": {},
   "source": [
    "En dicho subgrupo se encuentran las imágenes de dicho subgrupo. Por ejemplo, a continuación, se muestra una de las imágenes del subgrupo __Serie120 en Irún-Hendaya__"
   ]
  },
  {
   "cell_type": "code",
   "execution_count": null,
   "metadata": {
    "collapsed": true
   },
   "outputs": [],
   "source": [
    "from IPython.display import Image\n",
    "Image(filename='Captura1.png')\n",
    "#for i in range(1,4):\n",
    "#    Image(filename='Captura'+str(i)+'.png')"
   ]
  },
  {
   "cell_type": "markdown",
   "metadata": {},
   "source": [
    "Las imágenes contenidas en dicha página se pueden encontrar en las etiquetas __&lt;li> &lt;img ...__ que son hijas de la etiqueta __&lt;ul class=\"pgwSlideshow\">__. Por ejemplo en la página de ejemplo, la primera imagen de dicha página es:\n",
    "\n",
    "   __&lt;li>&lt;img src=\"multimedia/galerias/IRUN120/2Alvia_120.jpg\" alt=\"\" data-description=\"\">&lt;/li>__\n",
    "   \n",
    "A continuación, se puede ver el contenido html de esa página."
   ]
  },
  {
   "cell_type": "code",
   "execution_count": null,
   "metadata": {
    "collapsed": true
   },
   "outputs": [],
   "source": [
    "import requests\n",
    "url=\"https://www.vialibre-ffe.com/multi_galeria.asp?gal=524\"\n",
    "r = requests.get(url)\n",
    "html = r.text\n",
    "print(html)"
   ]
  },
  {
   "cell_type": "markdown",
   "metadata": {},
   "source": [
    "Se pide:\n",
    "\n",
    " 1. Crear un programa en __Python__ que muestre un menú con los grupos de fotos, y que pregunte al usuario que grupo de fotos quiere visitar. Se puede asociar a cada grupo un número, y solicitar al usuario que introduzca por teclado el número del grupo. A continuación, se mostrará los subgrupos de ese grupo, y se le preguntará nuevamente al usuario que subgrupo de fotos quiere procesar. Igual que antes, se puede asociar a cada subgrupo un número, y que introduzca por teclado el número del subgrupo. Como resultado se creará un directorio en el disco local para el subgrupo elegido y en el directorio se bajarán las imágenes de los trenes. Se imprimirá por pantalla las urls de las imágenes que se están bajando. Toda la información utilizada en el programa, debe ser extraida de las páginas consideradas usando BeautifulSoup[6 puntos]\n",
    " \n",
    " 2. Crear un minibuscador en __Python__ que pregunte al usuario un conjunto de palabras clave, y  recorra el sitio web buscando todos los subgrupos en cuyo título aparezca alguna de las palabras claves. Como resultado debe mostrar los subgrupos encontrados, listando el nombre y la url de cada subgrupo [4 puntos]"
   ]
  },
  {
   "cell_type": "markdown",
   "metadata": {
    "collapsed": true
   },
   "source": [
    "# Normas de entrega\n",
    "\n",
    "* Fecha tope de entrega: 18/11/2017\n",
    "* La entrega se realizará subiendo al campus virtual un notebook de Jupyter con la solución. El archivo tendrá como nombre WebScraping_GrupoX donde X será el número de grupo correspondiente.\n"
   ]
  },
  {
   "cell_type": "code",
   "execution_count": 34,
   "metadata": {},
   "outputs": [],
   "source": [
    "import urllib\n",
    "from bs4 import BeautifulSoup\n",
    "\n",
    "def dig_gallery(url):\n",
    "    dig=url\n",
    "    html=urllib.request.urlopen(dig).read()\n",
    "    soup=BeautifulSoup(html, 'html.parser')\n",
    "    etiquetas=soup(\"a\",{'class': 'tit_art_dest'})\n",
    "    for etiqueta in etiquetas:\n",
    "        tag = etiqueta.get(\"href\",None)\n",
    "        name = etiqueta.contents[0]\n",
    "        print (name)\n",
    "        print (tag+\"\\n\")\n",
    "\n",
    "def dig_images(url):\n",
    "    dig=url\n",
    "    html=urllib.request.urlopen(dig).read()\n",
    "    soup=BeautifulSoup(html, 'html.parser')\n",
    "    etiquetas=soup(\"ul\",{'class': 'pgwSlideshow'})\n",
    "    for etiqueta in etiquetas:\n",
    "        images = etiqueta.find_all('img')\n",
    "        for img in images:\n",
    "            img_src = img.get('src').strip()\n",
    "            print(img_src)"
   ]
  },
  {
   "cell_type": "code",
   "execution_count": 35,
   "metadata": {},
   "outputs": [
    {
     "name": "stdout",
     "output_type": "stream",
     "text": [
      "Renfe Operadora\n",
      "multi_ind_fotos.asp?cat=mu01\n",
      "\n",
      "\n",
      "\t\t\t\t\t\tAutonómicos\n",
      "multi_ind_fotos.asp?cat=mu02\n",
      "\n",
      "Metropolitanos\n",
      "multi_ind_fotos.asp?cat=mu03\n",
      "\n",
      "Tranvías\n",
      "multi_ind_fotos.asp?cat=mu04\n",
      "\n",
      "Otros operadores\n",
      "multi_ind_fotos.asp?cat=mu05\n",
      "\n",
      "Infraestructuras\n",
      "multi_ind_fotos.asp?cat=mu06\n",
      "\n",
      "Instalaciones\n",
      "multi_ind_fotos.asp?cat=mu07\n",
      "\n",
      "Estaciones\n",
      "multi_ind_fotos.asp?cat=mu08\n",
      "\n",
      "Internacional\n",
      "multi_ind_fotos.asp?cat=mu09\n",
      "\n",
      "Históricas\n",
      "multi_ind_fotos.asp?cat=mu10\n",
      "\n",
      "Museos y Trenes\n",
      "multi_ind_fotos.asp?cat=mu11\n",
      "\n",
      "Varios\n",
      "multi_ind_fotos.asp?cat=mu12\n",
      "\n",
      "\n",
      "-------------------------------------------------\n",
      "\n",
      "Serie120 en Irún-Hendaya\n",
      "multi_galeria.asp?gal=524\n",
      "\n",
      "Transporte de de residuos por ferrocarril en Galicia\n",
      "multi_galeria.asp?gal=510\n",
      "\n",
      "Servicios en el Corredor Mediterráneo\n",
      "multi_galeria.asp?gal=507\n",
      "\n",
      "Trenes turísticos de Renfe en 2014\n",
      "multi_galeria.asp?gal=504\n",
      "\n",
      "Tren turístico Tarraco, regreso del Talgo III\n",
      "multi_galeria.asp?gal=500\n",
      "\n",
      "Trenes internacionales, antes de la alta velocidad\n",
      "multi_galeria.asp?gal=469\n",
      "\n",
      "El \"Platanito\" primer pendolino español\n",
      "multi_galeria.asp?gal=466\n",
      "\n",
      "Serie 114 de Renfe, alta velocidad para Media Distancia\n",
      "multi_galeria.asp?gal=459\n",
      "\n",
      "La locomotora de vapor VA 8 antes de su reparación\n",
      "multi_galeria.asp?gal=416\n",
      "\n",
      "La locomotora VA 8 en pruebas tras su restauración\n",
      "multi_galeria.asp?gal=417\n",
      "\n",
      "Proceso de rehabilitación de la locomotora VA 8\n",
      "multi_galeria.asp?gal=418\n",
      "\n",
      "AVE  Barcelona Málaga\n",
      "multi_galeria.asp?gal=357\n",
      "\n",
      "Alvia Madrid-Orense\n",
      "multi_galeria.asp?gal=339\n",
      "\n",
      "Trenes Arco\n",
      "multi_galeria.asp?gal=325\n",
      "\n",
      "Trenes estrella\n",
      "multi_galeria.asp?gal=326\n",
      "\n",
      "Talgo 730\n",
      "multi_galeria.asp?gal=314\n",
      "\n",
      "AVE serie 103\n",
      "multi_galeria.asp?gal=309\n",
      "\n",
      "Cercedilla-Cotos\n",
      "multi_galeria.asp?gal=302\n",
      "\n",
      "Los nuevos trenes 114 de alta velocidad\n",
      "multi_galeria.asp?gal=288\n",
      "\n",
      "Tren serie 120\n",
      "multi_galeria.asp?gal=290\n",
      "\n",
      "UT 440\n",
      "multi_galeria.asp?gal=276\n",
      "\n",
      "Civia\n",
      "multi_galeria.asp?gal=257\n",
      "\n",
      "AVE 104\n",
      "multi_galeria.asp?gal=255\n",
      "\n",
      "Locomotoras de la serie 333 de Renfe\n",
      "multi_galeria.asp?gal=251\n",
      "\n",
      "Tren de Cervantes\n",
      "multi_galeria.asp?gal=248\n",
      "\n",
      "252 Málaga\n",
      "multi_galeria.asp?gal=235\n",
      "\n",
      "El primer viaje del Ave en España\n",
      "multi_galeria.asp?gal=233\n",
      "\n",
      "Tiempo de Flamenco\n",
      "multi_galeria.asp?gal=231\n",
      "\n",
      "Serie 121\n",
      "multi_galeria.asp?gal=214\n",
      "\n",
      "Serie 599 de Renfe\n",
      "multi_galeria.asp?gal=209\n",
      "\n",
      "Serie 130\n",
      "multi_galeria.asp?gal=203\n",
      "\n",
      "Serie 449 para Media Distancia\n",
      "multi_galeria.asp?gal=204\n",
      "\n",
      "Dados de baja los últimos electrotrenes de la serie 432 de Renfe\n",
      "multi_galeria.asp?gal=160\n",
      "\n",
      "Un tren de valores: El tren y tú\n",
      "multi_galeria.asp?gal=72\n",
      "\n",
      "Intercity de Renfe\n",
      "multi_galeria.asp?gal=58\n",
      "\n",
      "Cercanías en Atocha\n",
      "multi_galeria.asp?gal=5\n",
      "\n",
      "\n",
      "-------------------------------------------------\n",
      "\n",
      "multimedia/galerias/IRUN120/2Alvia_120.jpg\n",
      "multimedia/galerias/IRUN120/3Alvia_120.jpg\n",
      "multimedia/galerias/IRUN120/4Alvia_120.jpg\n",
      "multimedia/galerias/IRUN120/5Alvia_120.jpg\n",
      "multimedia/galerias/IRUN120/6Alvia_120.jpg\n",
      "multimedia/galerias/IRUN120/7Alvia_120.jpg\n"
     ]
    }
   ],
   "source": [
    "main = \"https://www.vialibre-ffe.com/multi_foto.asp?cs=mult\"\n",
    "dig_gallery(main)\n",
    "print(\"\\n-------------------------------------------------\\n\")\n",
    "url = \"https://www.vialibre-ffe.com/multi_ind_fotos.asp?cat=mu01\"\n",
    "dig_gallery(url)\n",
    "print(\"\\n-------------------------------------------------\\n\")\n",
    "img = \"https://www.vialibre-ffe.com//multi_galeria.asp?gal=524\"\n",
    "dig_images(img)"
   ]
  },
  {
   "cell_type": "code",
   "execution_count": null,
   "metadata": {
    "collapsed": true
   },
   "outputs": [],
   "source": []
  }
 ],
 "metadata": {
  "kernelspec": {
   "display_name": "Python 3",
   "language": "python",
   "name": "python3"
  },
  "language_info": {
   "codemirror_mode": {
    "name": "ipython",
    "version": 3
   },
   "file_extension": ".py",
   "mimetype": "text/x-python",
   "name": "python",
   "nbconvert_exporter": "python",
   "pygments_lexer": "ipython3",
   "version": "3.6.3"
  }
 },
 "nbformat": 4,
 "nbformat_minor": 2
}
