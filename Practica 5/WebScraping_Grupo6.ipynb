{
 "cells": [
  {
   "cell_type": "markdown",
   "metadata": {},
   "source": [
    "### Práctica de Web Scraping\n",
    "\n",
    "Se va a considerar una de las páginas vista en la teoría que contiene fotos de trenes:https://www.vialibre-ffe.com/multi_foto.asp?cs=mult. En esta página aparece un menú con varios grupos de fotos de trenes. A su vez, cada grupo contiene un conjunto de subgrupos de fotos. Por ejemplo, el grupo __Renfe operadora__ se encuentra en la página https://www.vialibre-ffe.com/multi_ind_fotos.asp?cat=mu01."
   ]
  },
  {
   "cell_type": "code",
   "execution_count": null,
   "metadata": {},
   "outputs": [],
   "source": [
    "from IPython.display import Image\n",
    "Image(filename='Captura1.png')"
   ]
  },
  {
   "cell_type": "markdown",
   "metadata": {},
   "source": [
    "Dentro de este grupo por ejemplo se encuentra el subgrupo __Serie120 en Irún-Hendaya__ en la página https://www.vialibre-ffe.com/multi_galeria.asp?gal=524. "
   ]
  },
  {
   "cell_type": "code",
   "execution_count": null,
   "metadata": {},
   "outputs": [],
   "source": [
    "from IPython.display import Image\n",
    "Image(filename='Captura2.png')"
   ]
  },
  {
   "cell_type": "markdown",
   "metadata": {},
   "source": [
    "En dicho subgrupo se encuentran las imágenes de dicho subgrupo. Por ejemplo, a continuación, se muestra una de las imágenes del subgrupo __Serie120 en Irún-Hendaya__"
   ]
  },
  {
   "cell_type": "code",
   "execution_count": null,
   "metadata": {},
   "outputs": [],
   "source": [
    "from IPython.display import Image\n",
    "Image(filename='Captura1.png')\n",
    "#for i in range(1,4):\n",
    "#    Image(filename='Captura'+str(i)+'.png')"
   ]
  },
  {
   "cell_type": "markdown",
   "metadata": {},
   "source": [
    "Las imágenes contenidas en dicha página se pueden encontrar en las etiquetas __&lt;li> &lt;img ...__ que son hijas de la etiqueta __&lt;ul class=\"pgwSlideshow\">__. Por ejemplo en la página de ejemplo, la primera imagen de dicha página es:\n",
    "\n",
    "   __&lt;li>&lt;img src=\"multimedia/galerias/IRUN120/2Alvia_120.jpg\" alt=\"\" data-description=\"\">&lt;/li>__\n",
    "   \n",
    "A continuación, se puede ver el contenido html de esa página."
   ]
  },
  {
   "cell_type": "code",
   "execution_count": null,
   "metadata": {},
   "outputs": [],
   "source": [
    "import requests\n",
    "url=\"https://www.vialibre-ffe.com/multi_galeria.asp?gal=524\"\n",
    "r = requests.get(url)\n",
    "html = r.text\n",
    "print(html)"
   ]
  },
  {
   "cell_type": "markdown",
   "metadata": {},
   "source": [
    "Se pide:\n",
    "\n",
    " 1. Crear un programa en __Python__ que muestre un menú con los grupos de fotos, y que pregunte al usuario que grupo de fotos quiere visitar. Se puede asociar a cada grupo un número, y solicitar al usuario que introduzca por teclado el número del grupo. A continuación, se mostrará los subgrupos de ese grupo, y se le preguntará nuevamente al usuario que subgrupo de fotos quiere procesar. Igual que antes, se puede asociar a cada subgrupo un número, y que introduzca por teclado el número del subgrupo. Como resultado se creará un directorio en el disco local para el subgrupo elegido y en el directorio se bajarán las imágenes de los trenes. Se imprimirá por pantalla las urls de las imágenes que se están bajando. Toda la información utilizada en el programa, debe ser extraida de las páginas consideradas usando BeautifulSoup[6 puntos]\n",
    " \n",
    " 2. Crear un minibuscador en __Python__ que pregunte al usuario un conjunto de palabras clave, y  recorra el sitio web buscando todos los subgrupos en cuyo título aparezca alguna de las palabras claves. Como resultado debe mostrar los subgrupos encontrados, listando el nombre y la url de cada subgrupo [4 puntos]"
   ]
  },
  {
   "cell_type": "markdown",
   "metadata": {
    "collapsed": true
   },
   "source": [
    "# Normas de entrega\n",
    "\n",
    "* Fecha tope de entrega: 18/11/2017\n",
    "* La entrega se realizará subiendo al campus virtual un notebook de Jupyter con la solución. El archivo tendrá como nombre WebScraping_GrupoX donde X será el número de grupo correspondiente.\n"
   ]
  },
  {
   "cell_type": "markdown",
   "metadata": {
    "collapsed": true
   },
   "source": [
    "## Ejercicio 1\n",
    "Crear un programa en Python que muestre un menú con los grupos de fotos, y que pregunte al usuario que grupo de fotos quiere visitar. Se puede asociar a cada grupo un número, y solicitar al usuario que introduzca por teclado el número del grupo. A continuación, se mostrará los subgrupos de ese grupo, y se le preguntará nuevamente al usuario que subgrupo de fotos quiere procesar. Igual que antes, se puede asociar a cada subgrupo un número, y que introduzca por teclado el número del subgrupo. Como resultado se creará un directorio en el disco local para el subgrupo elegido y en el directorio se bajarán las imágenes de los trenes. Se imprimirá por pantalla las urls de las imágenes que se están bajando. Toda la información utilizada en el programa, debe ser extraida de las páginas consideradas usando BeautifulSoup[6 puntos]"
   ]
  },
  {
   "cell_type": "code",
   "execution_count": null,
   "metadata": {},
   "outputs": [],
   "source": [
    "from bs4 import BeautifulSoup\n",
    "from termcolor import colored\n",
    "import urllib\n",
    "import os\n",
    "import urllib.request\n",
    "\n",
    "def dig_gallery(url):\n",
    "    \"\"\"Obtiene la informacion de las imagenes y las almacena en un diccionario.\n",
    "    \n",
    "    Parámetros de entrada:\n",
    "    url --- direccion de la que obtener la informacion\n",
    "    \n",
    "    Retorno:\n",
    "    gallery --- diccionario con los datos de las imagenes (titulo, url)\n",
    "    \"\"\"\n",
    "    \n",
    "    html = urllib.request.urlopen(url).read()\n",
    "    soup = BeautifulSoup(html, 'html.parser')\n",
    "    index = 0\n",
    "    gallery = {}\n",
    "    for label in soup(\"a\",{'class': 'tit_art_dest'}):\n",
    "        tag = label.get(\"href\",None)\n",
    "        name = label.contents[0]\n",
    "        gallery[index] = (name.strip(), tag.strip())\n",
    "        index = index + 1\n",
    "    return gallery\n",
    "\n",
    "def show_gallery(gallery):\n",
    "    \"\"\"Muestra el nombre de las galerias disponibles.\n",
    "    \n",
    "    Parámetros de entrada:\n",
    "    gallery --- diccionario con la informacion de las galerias\n",
    "    \"\"\"\n",
    "    \n",
    "    for x in gallery:\n",
    "        print (str(x) + \" - \" + gallery[x][0])\n",
    "\n",
    "def dig_images(url):\n",
    "    \"\"\"Obtiene las url de las imagenes y las almacena en un diccionario.\n",
    "    \n",
    "    Parámetros de entrada:\n",
    "    url --- direccion de la que obtener la informacion\n",
    "    \n",
    "    Retorno:\n",
    "    images --- diccionario con las url de las imagenes\n",
    "    \"\"\"\n",
    "    \n",
    "    html = urllib.request.urlopen(url).read()\n",
    "    soup = BeautifulSoup(html, 'html.parser')\n",
    "    images = None\n",
    "    for label in soup(\"ul\",{'class': 'pgwSlideshow'}):\n",
    "        images = label.find_all('img')\n",
    "    return images\n",
    "\n",
    "def ask_option(gallery):\n",
    "    \"\"\"Solicita al usuario la galeria deseada y devuelve su nombre y url.\n",
    "    \n",
    "    Parámetros de entrada:\n",
    "    gallery --- diciconario con la informacion de las galerias (titulo, url)\n",
    "    \n",
    "    Retorno:\n",
    "    gallery[i][0] --- titulo de la galeria i-esima\n",
    "    gallery[i][1] --- url de la galeria i-esima\n",
    "    \"\"\"\n",
    "    \n",
    "    try:\n",
    "        option = int(input('\\nSelecciona una galeria: '))\n",
    "        if option < 0 or option > len(gallery): raise ValueError\n",
    "        print(\"\\nSe ha seleccionado: \", gallery[option][0], '\\n')\n",
    "    except ValueError:\n",
    "        print(colored('Error con el argumento proporcionado', 'red'))\n",
    "        raise ValueError\n",
    "    return gallery[option][0], gallery[option][1]\n",
    "\n",
    "def download_image(url):\n",
    "    \"\"\"Descarga una imagen dada una url\n",
    "    \n",
    "    Parámetros de entrada:\n",
    "    url --- url de la que descargar la imagen\n",
    "    \"\"\"\n",
    "    \n",
    "    img = urllib.request.urlopen(url)\n",
    "    words = url.split('/')\n",
    "    img_name = words[-1]\n",
    "    with open(img_name,\"wb\") as img_file:\n",
    "        while True:\n",
    "            info = img.read(100000)\n",
    "            if len(info) < 1:\n",
    "                break\n",
    "            img_file.write(info)\n",
    "\n",
    "def download_gallery(images): \n",
    "    \"\"\"Descarga una galeria de imagenes\n",
    "    \n",
    "    Parámetros de entrada:\n",
    "    images --- diccionario con las url de las imagenes\n",
    "    \"\"\"\n",
    "    \n",
    "    for img in images:\n",
    "        img_src = img.get('src').strip()\n",
    "        url_img = \"https://www.vialibre-ffe.com/\" + img_src\n",
    "        print(url_img)\n",
    "        download_image(url_img)\n",
    "    os.chdir(\"..\") # salimos del directorio que hemos llenado para futuras ejecuciones\n",
    "\n",
    "def create_dir(file):\n",
    "    \"\"\"Crea un directorio en el que descargar las imagenes\n",
    "    \n",
    "    Parámetros de entrada:\n",
    "    file --- nombre del directorio a crear\n",
    "    \"\"\"\n",
    "    \n",
    "    try:\n",
    "        os.makedirs(file)\n",
    "        print('Se ha creado el directorio', file)\n",
    "    except FileExistsError:\n",
    "        print(colored('El directorio ' + file + ' ya existe', 'red'))\n",
    "    os.chdir(file) # accedemos al directorio nuevo para descargar las imagenes\n",
    "\n",
    "# METODO SOLICITADO EN EL ENUNCIADO\n",
    "def extract_images():\n",
    "    \"\"\"Descarga una galeria de imagenes en un directorio\n",
    "    \"\"\"\n",
    "    \n",
    "    try:\n",
    "        url = \"https://www.vialibre-ffe.com/multi_foto.asp?cs=mult\"\n",
    "        \"\"\"Obtenemos la galeria principal, la mostramos y le pedimos al usuario que selecccione una. De\n",
    "        ahi obtenemos el nombre de la galeria seleccionada y su url\n",
    "        \"\"\"\n",
    "        gallery = dig_gallery(url)\n",
    "        show_gallery(gallery)\n",
    "        name, new_url = ask_option(gallery)\n",
    "        \n",
    "        \"\"\"Obtenemos la sub galeria indicada por el usuario, la mostramos y le pedimos de nuevo que\n",
    "        seleccione una. Obtenemos de nuevo el nombre y la url\n",
    "        \"\"\"\n",
    "        url = \"https://www.vialibre-ffe.com/\" + new_url\n",
    "        sub_gallery = dig_gallery(url)\n",
    "        show_gallery(sub_gallery)\n",
    "        name, new_url = ask_option(sub_gallery)\n",
    "        \n",
    "        \"\"\"Creamos un directorio en el disco local con el nombre de la sub galeria. Obtenemos las url\n",
    "        de las imagenes de dicha galeria y descargamos en ese directorio dichas imagenes\n",
    "        \"\"\"\n",
    "        url = \"https://www.vialibre-ffe.com/\" + new_url       \n",
    "        create_dir(name)\n",
    "        images = dig_images(url)\n",
    "        download_gallery(images)\n",
    "        print(colored('Fin del ejercicio 1', 'green'))\n",
    "    except ValueError:\n",
    "        print(colored('Fin de la ejecucion', 'red'))\n"
   ]
  },
  {
   "cell_type": "markdown",
   "metadata": {},
   "source": [
    "## Ejercicio 2\n",
    "Crear un minibuscador en __Python__ que pregunte al usuario un conjunto de palabras clave, y  recorra el sitio web buscando todos los subgrupos en cuyo título aparezca alguna de las palabras claves. Como resultado debe mostrar los subgrupos encontrados, listando el nombre y la url de cada subgrupo [4 puntos]"
   ]
  },
  {
   "cell_type": "code",
   "execution_count": null,
   "metadata": {},
   "outputs": [],
   "source": [
    "def match_words(query, title):\n",
    "    \"\"\"Busca coincidencias entre la informacion del usuario y la informacion de las galerias\n",
    "    \n",
    "    Parámetros de entrada:\n",
    "    query --- lista de palabras proporcionadas por el usuario\n",
    "    title --- cadena de texto con titulos sobre los que hacer busquedas\n",
    "    \n",
    "    Retorno:\n",
    "    True --- hay coincidencias\n",
    "    False --- no hay coincidencias\n",
    "    \"\"\"\n",
    "    \n",
    "    for word in query:\n",
    "        if word in title.lower().split():\n",
    "            return True\n",
    "    return False\n",
    "\n",
    "def parse_title(gallery, query):\n",
    "    \"\"\"Muestra la informacion de la galeria si hay coincidencias con la info del usuario\n",
    "    \n",
    "    Parámetros de entrada:\n",
    "    gallery --- diciconario con la informacion de las galerias (titulo, url)\n",
    "    query --- lista con las palabras del usuario\n",
    "    \n",
    "    Retorno:\n",
    "    url --- url a una pagina donde hay coincidencia\n",
    "    \"\"\"\n",
    "    \n",
    "    title, section = gallery[0], gallery[1]\n",
    "    url = \"https://www.vialibre-ffe.com/\" + section\n",
    "    if match_words(query, title): print (title + \": \" + url)\n",
    "    return url\n",
    "\n",
    "# METODO SOLICITADO EN EL ENUNCIADO\n",
    "def search_engine():\n",
    "    \"\"\"Minibuscador que imprime por pantalla el titulo y la url si contienen la info proporcionada\n",
    "    \"\"\"\n",
    "    \n",
    "    words = input(\"\\n\\n\\nIntroduce las palabras a buscar: \")\n",
    "    query = words.lower().split()\n",
    "    \n",
    "    url = \"https://www.vialibre-ffe.com/multi_foto.asp?cs=mult\"\n",
    "    gallery = dig_gallery(url)\n",
    "\n",
    "    for elem in gallery:\n",
    "        url = parse_title(gallery[elem], query)\n",
    "        sub_gallery = dig_gallery(url)\n",
    "        for sub_elem in sub_gallery:\n",
    "            url = parse_title(sub_gallery[sub_elem], query)"
   ]
  },
  {
   "cell_type": "markdown",
   "metadata": {},
   "source": [
    "## Ejecucion"
   ]
  },
  {
   "cell_type": "code",
   "execution_count": null,
   "metadata": {},
   "outputs": [],
   "source": [
    "extract_images()\n",
    "search_engine()"
   ]
  }
 ],
 "metadata": {
  "kernelspec": {
   "display_name": "Python 3",
   "language": "python",
   "name": "python3"
  },
  "language_info": {
   "codemirror_mode": {
    "name": "ipython",
    "version": 3
   },
   "file_extension": ".py",
   "mimetype": "text/x-python",
   "name": "python",
   "nbconvert_exporter": "python",
   "pygments_lexer": "ipython3",
   "version": "3.6.3"
  }
 },
 "nbformat": 4,
 "nbformat_minor": 2
}
