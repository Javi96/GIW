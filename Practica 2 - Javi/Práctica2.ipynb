{
 "cells": [
  {
   "cell_type": "markdown",
   "metadata": {},
   "source": [
    "### Práctica de Formatos de datos: CSV y JSON"
   ]
  },
  {
   "cell_type": "markdown",
   "metadata": {},
   "source": [
    "#### Ejercicio 1[5 puntos]\n",
    "Considerar los archivos __Terrazas.csv__ y __Locales.csv__ que contiene un censo de locales y actividades del Ayuntamiento de Madrid, clasificados según su tipo de acceso (puerta de calle o agrupado), situación (abierto, cerrado...) e indicación de la actividad económica ejercida y de las terrazas de hostelería y restauración que aparecen registradas en dicho censo. Observar que la información puede contener alguna inconsistencia.Se pide realizar funciones en Python que permitan realizar las siguientes acciones:\n",
    "\n",
    "* Usando los dos archivos indicados, se pide crear un nuevo archivo csv denominados __NoTerrazas.csv__ el cual contenga la información de los locales que no son terrazas. Es decir, contendrá la misma información que el archivo __Locales.csv__ pero sin la información de locales que son Terrazas.\n",
    "\n",
    "* Usando el archivo __Locales.csv__ se pide crear una nuevo archivo csv denominada __Agrupadas.csv__ el cual debe contener una línea por cada barrio conteniendo el número de locales en los que el nombre del vial del edificio en que se encuentran es diferente del nombre del vial de acceso al local. Por ejemplo el local con id 10000401 se encuentra en la Plaza de Isabel II pero el acceso al mismo se realiza desde la Calle Arenal. La información en el archivo debe aparecer en el siguiente orden:\n",
    "\n",
    "  Código Barrio, Nombre Barrio, Número de empresas cumpliendo la condición\n",
    "  \n",
    "\n",
    "\n",
    "* Usando el archivo __Terrazas.csv__ crea un nuevo archivo cvs denominado TopRepeticiones.cvs. Considera el número de veces que se repite el nombre de una terraza (campo rótulo). Se pide crear un archivo csv que contenga los 20 nombres que más se repiten. La información en el archivo debe aparecer en orden descendente con los siguientes campos de información:\n",
    "\n",
    "  Nombre terraza, Número de repeticiones"
   ]
  },
  {
   "cell_type": "markdown",
   "metadata": {},
   "source": [
    "Para leer los archivos usa un código como el siguiente:"
   ]
  },
  {
   "cell_type": "raw",
   "metadata": {},
   "source": [
    "import csv\n",
    "csvarchivo = open('Locales.csv',encoding=\"utf8\",errors='ignore')\n",
    "entrada = csv.reader(csvarchivo, delimiter=\";\")"
   ]
  },
  {
   "cell_type": "code",
   "execution_count": null,
   "metadata": {},
   "outputs": [],
   "source": [
    "import csv\n",
    "\n",
    "\"\"\"Usando los dos archivos indicados, se pide crear un nuevo archivo csv denominados NoTerrazas.csv \n",
    "el cual contenga la información de los locales que no son terrazas. Es decir, contendrá la misma\n",
    "información que el archivo Locales.csv pero sin la información de locales que son Terrazas.\"\"\"\n",
    "\n",
    "def foo_1():\n",
    "    try:\n",
    "        with open('Locales.csv', \"r\", encoding=\"utf8\", errors='ignore') as locales:\n",
    "            entrada_locales = list(csv.reader(locales, delimiter=\";\"))\n",
    "\n",
    "        with open('Terrazas.csv', \"r\", encoding=\"utf8\", errors='ignore') as terrazas:\n",
    "            entrada_terrazas = list(csv.reader(terrazas, delimiter=\";\"))\n",
    "\n",
    "        with open('NoTerrazas.csv', \"w\", encoding=\"utf8\",errors='ignore') as no_terrazas:\n",
    "            buffer_salida = csv.writer(no_terrazas, delimiter=\";\")\n",
    "            buffer_salida.writerow(entrada_locales[0])\n",
    "            for i in entrada_locales[1:]:\n",
    "                for j in entrada_terrazas[1:]:\n",
    "                    if i[0] == j[0]:\n",
    "                        break\n",
    "                buffer_salida.writerow(i)\n",
    "    except FileNotFoundError:\n",
    "        print(\"Ha habido un problema con los ficheros\")"
   ]
  },
  {
   "cell_type": "code",
   "execution_count": null,
   "metadata": {},
   "outputs": [],
   "source": [
    "foo_1()"
   ]
  },
  {
   "cell_type": "code",
   "execution_count": null,
   "metadata": {},
   "outputs": [],
   "source": [
    "import csv\n",
    "\n",
    "\"\"\"Usando el archivo Locales.csv se pide crear una nuevo archivo csv denominada Agrupadas.csv \n",
    "el cual debe contener una línea por cada barrio, conteniendo el número de locales en los que el\n",
    "nombre del vial del edificio en que se encuentran es diferente del nombre del vial de acceso al local. \n",
    "Por ejemplo el local con id 10000401 se encuentra en la Plaza de Isabel II pero el acceso al mismo \n",
    "se realiza desde la Calle Arenal. \n",
    "La información en el archivo debe aparecer en el siguiente orden\n",
    "    Código Barrio, Nombre Barrio, Número de empresas cumpliendo la condición\n",
    "\"\"\"\n",
    "\n",
    "def foo_2():\n",
    "    try:\n",
    "        with open('Locales.csv', \"r\", encoding=\"utf8\", errors='ignore') as locales:\n",
    "            entrada_locales = list(csv.reader(locales, delimiter=\";\"))\n",
    "        with open('Agrupadas.csv', \"w\", encoding=\"utf8\", errors='ignore') as agrupadas:\n",
    "            buffer_agrupadas = csv.writer(agrupadas, delimiter=\",\")\n",
    "            # Algoritmo aparenetemente lineal a falta de ver los tiempos de los diccionarios\n",
    "            dic = {}\n",
    "            for i in entrada_locales[1:]:\n",
    "                if (i[15] + i[16]) != (i[24] + i[25]):\n",
    "                    try:\n",
    "                        name, value = dic.pop(i[3])\n",
    "                        dic.setdefault(i[3], (i[4].rstrip(), value + 1))\n",
    "                    except Exception:\n",
    "                        dic.setdefault(i[3], (i[4].rstrip(), 1))\n",
    "            for key in dic:\n",
    "                buffer_agrupadas.writerow([key,dic.get(key)[0],dic.get(key)[1]])  \n",
    "    except FileNotFoundError:\n",
    "        print(\"Ha habido un problema con los ficheros\")\n",
    "      "
   ]
  },
  {
   "cell_type": "code",
   "execution_count": null,
   "metadata": {},
   "outputs": [],
   "source": [
    "foo_2()"
   ]
  },
  {
   "cell_type": "code",
   "execution_count": null,
   "metadata": {
    "collapsed": true
   },
   "outputs": [],
   "source": [
    "import csv\n",
    "\n",
    "\"\"\"Usando el archivo __Terrazas.csv__ crea un nuevo archivo cvs denominado TopRepeticiones.cvs. \n",
    "Considera el número de veces que se repite el nombre de una terraza (campo rótulo). \n",
    "Se pide crear un archivo csv que contenga los 20 nombres que más se repiten. \n",
    "La información en el archivo debe aparecer en orden descendente con los siguientes campos \n",
    "de información: Nombre terraza, Número de repeticiones\n",
    "\"\"\"\n",
    "\n",
    "def foo_3():\n",
    "    try:\n",
    "        with open('Terrazas.csv',encoding=\"utf8\",errors='ignore') as terrazas:\n",
    "            estrada_terrazas = list(csv.reader(terrazas, delimiter=\";\"))\n",
    "\n",
    "        with open('TopRepeticiones.csv', \"w\", encoding=\"utf8\", errors='ignore') as agrupadas:\n",
    "            buffer_agrupadas = csv.writer(agrupadas, delimiter=\",\")\n",
    "            dic = {}\n",
    "            for i in estrada_terrazas[1:]:\n",
    "                try:\n",
    "                    value = dic.pop(i[21])\n",
    "                    dic.setdefault(i[21], value + 1)\n",
    "                except Exception:\n",
    "                    dic.setdefault(i[21], 1)\n",
    "            lista_terrazas = sorted(dic.items(), key = lambda select: select[1], reverse = True)\n",
    "            for (i, j) in lista_terrazas[:20]:\n",
    "                buffer_agrupadas.writerow([i,j])\n",
    "    except FileNotFoundError:\n",
    "        print(\"Ha habido un problema con los ficheros\")"
   ]
  },
  {
   "cell_type": "code",
   "execution_count": null,
   "metadata": {
    "scrolled": true
   },
   "outputs": [],
   "source": [
    "foo_3()"
   ]
  },
  {
   "cell_type": "markdown",
   "metadata": {},
   "source": [
    "#### Ejercicio 2[5 puntos]\n",
    "Considerar el archivo __Agenda.json__ que contiene información de actividades de carácter gratuito, para público infantil y adulto, desarrolladas por las siguientes instituciones de titularidad municipal: la red de Bibliotecas Públicas, la Biblioteca Histórica, la Biblioteca Musical Víctor Espinós, la Hemeroteca y la Imprenta. Se presentan las actividades de los próximos 60 dias. Se pide realizar funciones en Python que permitan realizar las siguientes acciones:\n",
    "\n",
    "* El archivo contiene un campo denominado \"audience\" que indica el público al que va dirigido. A veces aparece y otras veces no aparece dicho campo. Se quiere procesar el archivo para obtener como resultado dos archivos de texto:el archivo __Niños.txt__ que contendrá la información de los eventos que es exclusivamente para niños y el archivo __Familias.txt__ que contendrá la información de los eventos que está dirigida a niños y familias. En los archivos debe aparecer una línea por cada evento cumpliendo las condiciones indicadas, y mostrando la información siguiente:\n",
    "  \n",
    "   Título del evento(campo title), inicio(campo \"dtstart\"), finalizacion(campo \"dtend\"), url(campo link)\n",
    "   \n",
    "   \n",
    "* Se desea conocer los eventos más cercanos a un punto que viene especificado por su longitud y latitud. De manera que se quiere crear una función que tomando como entrada una longitud, una latitud y un número real que representa una distancia en kilometros, devuelva como resultado los eventos que se encuentran a una distancia menor o igual a la distancia dada como parámetro. El resultado se mostrará por la pantalla mostrando una línea por cada evento. De cada evento se mostrará:\n",
    "\n",
    "  Título del evento(campo title), inicio(campo \"dtstart\"), finalizacion(campo \"dtend\"), url(campo link)\n",
    "  \n",
    "Para calcular la distancia entre dos puntos dadas sus coordenadas se utilizará la siguiente función en Python:"
   ]
  },
  {
   "cell_type": "code",
   "execution_count": null,
   "metadata": {},
   "outputs": [],
   "source": [
    "\n",
    "\n",
    "\"\"\"\n",
    "El archivo contiene un campo denominado \"audience\" que indica el público al que va dirigido.\n",
    "A veces aparece y otras veces no aparece dicho campo. Se quiere procesar el archivo para obtener \n",
    "como resultado dos archivos de texto:el archivo __Niños.txt__ que contendrá la información de los\n",
    "eventos que es exclusivamente para niños y el archivo __Familias.txt__ que contendrá la información\n",
    "de los eventos que está dirigida a niños y familias. En los archivos debe aparecer una línea por cada \n",
    "evento cumpliendo las condiciones indicadas, y mostrando la información siguiente:\n",
    "    Título del evento(campo title), inicio(campo \"dtstart\"), finalizacion(campo \"dtend\"), url(campo link)\n",
    "\"\"\"\n",
    "\n",
    "import json\n",
    "leer = json.loads(open('Agenda.json',encoding=\"utf8\").read())\n",
    "\n",
    "ninios = open(\"Niños.txt\", \"w\")\n",
    "familias = open(\"Familias.txt\", \"w\")\n",
    "\n",
    "for i in range(0,len(leer[\"@graph\"])):\n",
    "    try:\n",
    "        print(leer[\"@graph\"][i][\"audience\"])\n",
    "        if leer[\"@graph\"][i][\"audience\"] == \"Niños\":\n",
    "            \n",
    "        elif leer[\"@graph\"][i][\"audience\"] == \"Niños,Familias\":\n",
    "           \n",
    "        print(leer[\"@graph\"][i][\"title\"])\n",
    "        print(leer[\"@graph\"][i][\"dtstart\"])\n",
    "        print(leer[\"@graph\"][i][\"dtend\"])\n",
    "        print(leer[\"@graph\"][i][\"link\"])\n",
    "    except Exception:\n",
    "        print(\"\")"
   ]
  },
  {
   "cell_type": "raw",
   "metadata": {},
   "source": [
    "import math\n",
    "\n",
    "def haversine(lat1, lon1, lat2, lon2):\n",
    "    rad=math.pi/180\n",
    "    dlat=lat2-lat1\n",
    "    dlon=lon2-lon1\n",
    "    R=6372.795477598\n",
    "    a=(math.sin(rad*dlat/2))**2 + math.cos(rad*lat1)*math.cos(rad*lat2)*(math.sin(rad*dlon/2))**2\n",
    "    distancia=2*R*math.asin(math.sqrt(a))\n",
    "    return distancia"
   ]
  },
  {
   "cell_type": "markdown",
   "metadata": {},
   "source": [
    "Para leer los archivos usa un código como el siguiente:"
   ]
  },
  {
   "cell_type": "raw",
   "metadata": {},
   "source": [
    "import json\n",
    "leer = json.loads(open('Agenda.json',encoding=\"utf8\").read())"
   ]
  },
  {
   "cell_type": "markdown",
   "metadata": {},
   "source": [
    "#### Normas de entrega\n",
    "\n",
    "* Fecha tope de entrega: 27/10/2017\n",
    "* La entrega se realizará subiendo al campus virtual un notebook de Jupyter con la solución. El archivo tendrá como nombre FormatosI_GrupoX donde X será el número de grupo correspondiente."
   ]
  }
 ],
 "metadata": {
  "kernelspec": {
   "display_name": "Python 3",
   "language": "python",
   "name": "python3"
  },
  "language_info": {
   "codemirror_mode": {
    "name": "ipython",
    "version": 3
   },
   "file_extension": ".py",
   "mimetype": "text/x-python",
   "name": "python",
   "nbconvert_exporter": "python",
   "pygments_lexer": "ipython3",
   "version": "3.6.2"
  }
 },
 "nbformat": 4,
 "nbformat_minor": 2
}
