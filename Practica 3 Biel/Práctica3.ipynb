{
 "cells": [
  {
   "cell_type": "markdown",
   "metadata": {},
   "source": [
    "### Práctica de Formatos de datos: XML"
   ]
  },
  {
   "cell_type": "markdown",
   "metadata": {},
   "source": [
    "La __EMT__ dispone de un portal de datos abiertos que se puede encontrar en la página http://opendata.emtmadrid.es/Home. El objetivo del mismo es ofrecer diferentes tipos de datos sobre la actividad de los autobuses de la EMT. El acceso a los datos se realiza a través de una API de servicios web. \n",
    "\n",
    "Para poder utilizar la API de servicios, en primre lugar hay que registrarse, lo cual puede hacerse en la página http://opendata.emtmadrid.es/Formulario. El registro devuelve como resultado en un mensaje electrónico, dos valores:\n",
    "\n",
    "* Id de cliente: Identificador de cliente\n",
    "\n",
    "* Pass Key: Password\n",
    "\n",
    "A continuación, hay que elegir el servicio que se quiere utilizar. Hay 4 servicios definidos: BUS, GEO, MEDIA, INFOPARKING y BICIMAD. Cada servicio tiene asociado un conjunto de métodos que al invocarlos, devuelven un resultado. Por ejemplo, el servicio BUS dispone del servicio __\"GetRouteLines\"__ que obtiene el itinerario de una línea (o varias líneas separadas por el carácter pipe(|)), con los vértices para construir las rectas del recorrido y las coordenadas UTM de los ejes viales y los códigos de parada. Si se quiere invocar desde Python, se puede hacer usando el siguiente código:"
   ]
  },
  {
   "cell_type": "raw",
   "metadata": {},
   "source": [
    "import requests\n",
    "datos = {\n",
    "    'idClient':'Identificador de cliente',\n",
    "    'PassKey':'Password',\n",
    "    'SelectDate': '27/10/2017',\n",
    "    'Lines':'27'\n",
    "}\n",
    " \n",
    "url = 'https://servicios.emtmadrid.es:8443/bus/servicebus.asmx/GetRouteLines'\n",
    "response = requests.post(url, data=datos)\n",
    "print(response.text)"
   ]
  },
  {
   "cell_type": "markdown",
   "metadata": {},
   "source": [
    "En esta práctica se va a trabajar con varios métodos:\n",
    "\n",
    "* Método __'GetStreet'__ del servicio GEO. Este método obtiene una lista de emplazamientos EMT coincidentes con una localización. Cada emplazamiento está compuesto por una lista de paradas EMT situadas dentro de un radio predefinido con todos sus atributos, así como las líneas EMT que pasan por cada parada de la lista. En el documento __Servicios_EMT.pdf__ adjunto a esta práctica, se explica con detalle los parámetros de entrada y el resultado que devuelve este método. El método se puede invocar indicando al menos el nombre de la calle y el número:"
   ]
  },
  {
   "cell_type": "raw",
   "metadata": {},
   "source": [
    "import requests\n",
    "datos = {\n",
    "    'idClient':'Identificador de cliente',\n",
    "    'PassKey':'Password',\n",
    "    'description': 'Profesor José García Santesmases',\n",
    "    'streetNumber':'9',\n",
    "    'Radius':'',\n",
    "    'Stops':'',\n",
    "    'statistics':'',\n",
    "    'cultureInfo':''\n",
    "}\n",
    " \n",
    "url = 'https://servicios.emtmadrid.es:8443/geo/servicegeo.asmx/GetStreet'\n",
    "response = requests.post(url, data=datos)\n",
    "print(response.text)"
   ]
  },
  {
   "cell_type": "markdown",
   "metadata": {},
   "source": [
    "El método devuelve un documento XML. Entre los elementos del documento, se encuentran las coordenadas X e Y del lugar buscado. En la búsqueda del ejemplo, la calle búscada tiene como coordenadas UTM X e Y:"
   ]
  },
  {
   "cell_type": "raw",
   "metadata": {},
   "source": [
    "    <CoordinateX>-3.73379031085432</CoordinateX>\n",
    "    <CoordinateY>40.4530280706993</CoordinateY>"
   ]
  },
  {
   "cell_type": "markdown",
   "metadata": {},
   "source": [
    "* Método __'GetStreetRoute'__ del servicio MEDIA. Este método obtiene hasta tres rutas óptimas para ir de un sitio a otro a pie y en autobús. En el documento __Servicios_EMT.pdf__ adjunto a esta práctica, se explica con detalle los parámetros de entrada y el resultado que devuelve este método. El método se puede invocar indicando los siguientes parámetros\n",
    "\n",
    "  * idClient: Código de cliente autorizado para la operación y suministrado por EMT.\n",
    "\n",
    "  * passKey: Código de clave asociado al cliente.\n",
    "\n",
    "  * coordinateXFrom: Campo para identificar la posición \"x\" del origen de la ruta a consultar. \n",
    "  \n",
    "  * coordinateYFrom: Campo para identificar la posición \"y\" del origen de la ruta a consultar.\n",
    "\n",
    "  * coordinateXTo: Campo para identificar la posición \"x\" del destino de la ruta a consultar. \n",
    "  \n",
    "  * coordinateYTo: Campo para identificar la posición \"y\" del destino de la ruta a consultar. \n",
    "\n",
    "  * criteriaSelection: Campo que indica el criterio de la búsqueda. Los valores son:\n",
    "  \n",
    "       * 11 - Mínimo tiempo de trayecto\n",
    "    \n",
    "       * 13 - Mínimos trasbordos\n",
    "    \n",
    "       * 14 - Mínimo recorrido a pie"
   ]
  },
  {
   "cell_type": "markdown",
   "metadata": {},
   "source": [
    "El método devuelve un documento XML que contiene información sobre las rutas óptimas (se explica con detalle en el documento __Servicios_EMT.pdf__). En particular muestra la siguiente información:\n",
    "\n",
    "* El elemento __DescriptionRouteData__ donde aparece la siguiente información:\n",
    "\n",
    "  * DescriptionDate: Fecha de la ruta.\n",
    "  * DescriptionInitTime: Descripción de hora de inicio de la ruta.\n",
    "  * DescriptionEstimateTimeArrival: Descripción de la hora estimada de llegada.\n",
    "  * Transfers: Trasbordos.\n",
    "  * LongJourney: Duración del viaje.\n",
    "\n",
    "* El elemento __ListSectionRoute__ aparece una lista de subelementos __Section__.Cada uno de ellos, describe parcialmente una parte de la ruta. En un caso ideal, aparecerá un subelemento de __Section__ de tipo __WalkingLeg__  que describe el inicio de la ruta andando, a continuación un conjunto de subelementos de __Section__ de tipo __BusLeg__ que describen cada uno de ellos la ruta en una línea de autobus que forma parte de la ruta buscada, y por último otro subelemento de __Section__ de tipo __WalkingLeg__  que describe el final de la ruta andando.\n",
    "\n",
    "* El elemento __POI__ que muestra información sobre puntos de interés que se encuentran a lo largo de la ruta."
   ]
  },
  {
   "cell_type": "raw",
   "metadata": {},
   "source": [
    "import requests\n",
    "datos = {\n",
    "    'idClient':'Identificador de cliente',\n",
    "    'PassKey':'Password',\n",
    "    'statistics':'',\n",
    "    'cultureInfo':'',\n",
    "    'coordinateXFrom': '-3,63271713087776',\n",
    "    'coordinateYFrom':'40,4543980802915',\n",
    "    'originName':'',\n",
    "    'coordinateXTo': '-3.7013019',\n",
    "    'coordinateYTo':'40.4176416',\n",
    "    'destinationName':'',\n",
    "    'criteriaSelection':'13',\n",
    "    'day':'',\n",
    "    'month':'',\n",
    "    'year':'',\n",
    "    'hour':'',\n",
    "    'minute':'',\n",
    "    'GenerarAudio':''\n",
    "}\n",
    " \n",
    "url = 'https://servicios.emtmadrid.es:8443/servicemedia/servicemedia.asmx/GetStreetRoute'\n",
    "response = requests.post(url, data=datos)\n",
    "print(response.text)"
   ]
  },
  {
   "cell_type": "markdown",
   "metadata": {},
   "source": [
    "Se pide:\n",
    "\n",
    "* [1 punto] Crear una función que solicite al usuario dos calles de Madrid, que actúen de origen y destino de una ruta\n",
    "\n",
    "* [2 puntos]Crear una función que dada una calle de Madrid, devuelva las coordenadas X e Y de la calle.\n",
    "\n",
    "* [4 puntos]Crear una función que dadas las coordenadas X e Y de un origen y un destino dentro de Madrid, obtenga la ruta más óptima para ir del origen al destino usando autobuses de la EMT. La función deberá imprimir por pantalla, la siguiente información:\n",
    "\n",
    " * Fecha de la ruta.\n",
    " \n",
    " * Hora de inicio de la ruta.\n",
    " \n",
    " * Hora estimada de llegada\n",
    " \n",
    " * Número de trasbordos.\n",
    " \n",
    " * Duración del viaje.\n",
    " \n",
    " * Descripción textual de la ruta.\n",
    " \n",
    " Usando el ejemplo anterior debería mostrar:\n",
    " \n",
    " * Fecha de la ruta: 26/10/2017\n",
    " \n",
    " * Hora de inicio de la ruta: 03:55\n",
    " \n",
    " * Hora estimada de llegada: 05:28\n",
    " \n",
    " * Número de trasbordos: 1\n",
    " \n",
    " * Duración del viaje: 93\n",
    " \n",
    " * Descripción textual de la ruta:\n",
    " \n",
    "     * Caminar 42' hasta parada 3125 - EMILIO VARGAS-ARTURO SORIA, linea N4\n",
    "     \n",
    "     * 28' en autobús (línea N4) hasta parada 449 - SERRANO-ORTEGA Y GASSET\n",
    "     \n",
    "     * Desde parada 449 caminar 5' hasta parada 61 - Castellana-Ministerio Interior, linea N25\n",
    " \n",
    "     * 15' en autobús (línea N25) hasta parada 3691 - SOL-SEVILLA\n",
    "\n",
    "     * Desde parada 3691 caminar 3'\n",
    "\n",
    "* [1 punto]Crear una función que solicite al usuarios los nombres de 2 calles de Madrid y muestre la información referente a la ruta más óptima para llegar de una calle a otra usando autobuses de la EMT.\n",
    "\n",
    "* [2 puntos]Crear una función que solicite al usuarios los nombres de 2 calles de Madrid y muestre un listado de todos los puntos de interés que hay dentro de la ruta más óptima para llegar de una calle a otra usando autobuses de la EMT. A continuación, se le pedirá al usuario que introduzca el nombre de uno de los puntos de interés mostrado, y como resultado se mostrará por pantalla los siguientes datos del punto de interés:\n",
    "\n",
    "  * Nombre del punto de interés.\n",
    "  \n",
    "  * Dirección del punto de interés.\n",
    "  \n",
    "  * Teléfono del punto de interés."
   ]
  },
  {
   "cell_type": "code",
   "execution_count": 5,
   "metadata": {
    "collapsed": true
   },
   "outputs": [],
   "source": [
    "#Id de cliente: WEB.SERV.gabriese@ucm.es \n",
    "#Pass Key: 68020487-D67D-4A72-A362-32F6AAB4BB33\n",
    "\n",
    "#Devuelve un string que contiene un XML con toda la información de la calle. Si no existe, devuleve un XML vacío.\n",
    "\n",
    "\n",
    "import requests\n",
    "from xml.etree import ElementTree\n",
    "\n",
    "#Función asociada al ejercicio 1\n",
    "def ask_street():\n",
    "    street= input(\"Introduce street here: \")\n",
    "    number= input(\"Introduce number here: \")\n",
    "    return street,number\n",
    "\n",
    "#Función asociada al ejercicio 2\n",
    "def get_coordinates(name,number):\n",
    "    response=get_street(name,number)\n",
    "    save_XML('result',response)\n",
    "    tree=parse_XML(\"result\")\n",
    "    return tree.find('Site').find('CoordinateX').text, tree.find('Site').find('CoordinateY').text\n",
    "    \n",
    "    \n",
    "    \n",
    "def get_street (name, number):\n",
    "   \n",
    "    data = {\n",
    "        'idClient':'WEB.SERV.gabriese@ucm.es ',\n",
    "        'PassKey':'68020487-D67D-4A72-A362-32F6AAB4BB33',\n",
    "        'description': name,\n",
    "        'streetNumber':number,\n",
    "        'Radius':'',\n",
    "        'Stops':'',\n",
    "        'statistics':'',\n",
    "        'cultureInfo':''\n",
    "    }\n",
    "    \n",
    "    url = 'https://servicios.emtmadrid.es:8443/geo/servicegeo.asmx/GetStreet'\n",
    "    return requests.post(url, data=data).text\n",
    "    \n",
    "#Dado un string que representa un XML (content) y un nombre, crea un fichero nombre.xml que contiene dicho string.\n",
    "def save_XML(name, content):\n",
    "    pointer= open(name +'.xml','w')\n",
    "    pointer.write(content)\n",
    "    pointer.close()\n",
    "\n",
    "#Dado el nombre de un fichero XML, devuelve el árbol que representa.\n",
    "def parse_XML(name):\n",
    "    f=open(name+'.xml',\"rt\")\n",
    "    result=ElementTree.parse(f)\n",
    "    f.close()\n",
    "    return result\n",
    "\n",
    "#Dado el nombre de un fichero xml devuelve si está vacío (no contiene más que las cabeceras iniciales)\n",
    "def is_empty(name):\n",
    "    f=open(name+'.xml',\"rt\")\n",
    "    \n",
    "    "
   ]
  },
  {
   "cell_type": "code",
   "execution_count": 7,
   "metadata": {},
   "outputs": [
    {
     "ename": "SyntaxError",
     "evalue": "invalid syntax (<ipython-input-7-a22b35c9777b>, line 40)",
     "output_type": "error",
     "traceback": [
      "\u001b[1;36m  File \u001b[1;32m\"<ipython-input-7-a22b35c9777b>\"\u001b[1;36m, line \u001b[1;32m40\u001b[0m\n\u001b[1;33m    if(not (node.find(\"BusLeg\") is None)):\u001b[0m\n\u001b[1;37m                                         ^\u001b[0m\n\u001b[1;31mSyntaxError\u001b[0m\u001b[1;31m:\u001b[0m invalid syntax\n"
     ]
    }
   ],
   "source": [
    "#Función asociada al ejercicio 3\n",
    "\n",
    "\n",
    "def ask_route_service(origin_X,origin_Y,destiny_X,destiny_Y): \n",
    "    data = {\n",
    "        'idClient':'WEB.SERV.gabriese@ucm.es',\n",
    "        'PassKey':'68020487-D67D-4A72-A362-32F6AAB4BB33',\n",
    "        'statistics':'',\n",
    "        'cultureInfo':'',\n",
    "        'coordinateXFrom': origin_X,\n",
    "        'coordinateYFrom':origin_Y,\n",
    "        'originName':'',\n",
    "        'coordinateXTo':destiny_X,\n",
    "        'coordinateYTo':destiny_Y,\n",
    "        'destinationName':'',\n",
    "        'criteriaSelection':'1',\n",
    "        'day':'',\n",
    "        'month':'',\n",
    "        'year':'',\n",
    "        'hour':'',\n",
    "        'minute':'',\n",
    "        'GenerarAudio':''\n",
    "    }\n",
    " \n",
    "    url = 'https://servicios.emtmadrid.es:8443/servicemedia/servicemedia.asmx/GetStreetRoute'\n",
    "    return requests.post(url, data=data).text\n",
    "    \n",
    "def show_route_result(tree):\n",
    "    \n",
    "    print( tree.find(\"ListRouteData\").find(\"RouteData\").find(\"DescriptionRouteData\").find(\"DescriptionDate\").text)\n",
    "    print( tree.find(\"ListRouteData\").find(\"RouteData\").find(\"DescriptionRouteData\").find(\"DescriptionInitTime\").text)\n",
    "    print( \"Hora estimada de llegada : \" + tree.find(\"ListRouteData\").find(\"RouteData\").find(\"DescriptionRouteData\").find(\"DescriptionEstimateTimeArrival\").text)\n",
    "    print( \"Transbordos : \" + tree.find(\"ListRouteData\").find(\"RouteData\").find(\"DescriptionRouteData\").find(\"Transfers\").text)\n",
    "    print( \"Duración : \" + tree.find(\"ListRouteData\").find(\"RouteData\").find(\"DescriptionRouteData\").find(\"LongJourney\").text)\n",
    "\n",
    "    \n",
    "    for node in tree.findall(\"Section\"):\n",
    "        if(not (node.find(\"WalkingLeg\") is None)):\n",
    "            print(\"- \" + node.find(\"WalkingLeg\").find(\"SourceWalkingLeg\").find(\"RouteDescription\").text\n",
    "        if(not (node.find(\"BusLeg\") is None)):\n",
    "            print(\"- \" + node.find(\"BusLeg\").find(\"SourceLegBus\").find(\"RouteDescription\").text))\n",
    "    \n",
    "    \n",
    "    \n",
    "def get_route():\n",
    "    #Pedimos las calles origen y destino\n",
    "    O_street,O_number=ask_street()\n",
    "    D_street,D_number=ask_street()\n",
    "    \n",
    "    #Obtenemos sus coordenadas\n",
    "    origin_X,origin_Y=get_coordinates(O_street,O_number)\n",
    "    destiny_X,destiny_Y=get_coordinates(D_street,D_number)\n",
    "    \n",
    "    #Obtenemos el XML y lo almacenamos.\n",
    "    response= ask_route_service(origin_X,origin_Y,destiny_X,destiny_Y)\n",
    "    save_XML('result',response)\n",
    "    \n",
    "    #Lo parseamos para recorrer el árbol.\n",
    "    tree=parse_XML(\"result\")\n",
    "    return show_route_result(tree)\n",
    "    "
   ]
  },
  {
   "cell_type": "code",
   "execution_count": 4,
   "metadata": {},
   "outputs": [
    {
     "ename": "NameError",
     "evalue": "name 'get_route' is not defined",
     "output_type": "error",
     "traceback": [
      "\u001b[1;31m---------------------------------------------------------------------------\u001b[0m",
      "\u001b[1;31mNameError\u001b[0m                                 Traceback (most recent call last)",
      "\u001b[1;32m<ipython-input-4-5f67e24d4df1>\u001b[0m in \u001b[0;36m<module>\u001b[1;34m()\u001b[0m\n\u001b[1;32m----> 1\u001b[1;33m \u001b[0mprint\u001b[0m\u001b[1;33m(\u001b[0m\u001b[0mget_route\u001b[0m\u001b[1;33m(\u001b[0m\u001b[1;33m)\u001b[0m\u001b[1;33m)\u001b[0m\u001b[1;33m\u001b[0m\u001b[0m\n\u001b[0m\u001b[0;32m      2\u001b[0m \u001b[1;33m\u001b[0m\u001b[0m\n\u001b[0;32m      3\u001b[0m \u001b[0mprint\u001b[0m\u001b[1;33m(\u001b[0m\u001b[1;34m\"END\"\u001b[0m\u001b[1;33m)\u001b[0m\u001b[1;33m\u001b[0m\u001b[0m\n",
      "\u001b[1;31mNameError\u001b[0m: name 'get_route' is not defined"
     ]
    }
   ],
   "source": [
    "print(get_route())\n",
    "\n",
    "print(\"END\")\n"
   ]
  },
  {
   "cell_type": "code",
   "execution_count": null,
   "metadata": {
    "collapsed": true
   },
   "outputs": [],
   "source": []
  },
  {
   "cell_type": "raw",
   "metadata": {},
   "source": []
  }
 ],
 "metadata": {
  "kernelspec": {
   "display_name": "Python [Root]",
   "language": "python",
   "name": "Python [Root]"
  },
  "language_info": {
   "codemirror_mode": {
    "name": "ipython",
    "version": 3
   },
   "file_extension": ".py",
   "mimetype": "text/x-python",
   "name": "python",
   "nbconvert_exporter": "python",
   "pygments_lexer": "ipython3",
   "version": "3.5.3"
  }
 },
 "nbformat": 4,
 "nbformat_minor": 2
}
