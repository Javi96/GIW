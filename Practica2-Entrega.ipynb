{
 "cells": [
  {
   "cell_type": "markdown",
   "metadata": {},
   "source": [
    "### Práctica de Formatos de datos: CSV y JSON"
   ]
  },
  {
   "cell_type": "markdown",
   "metadata": {},
   "source": [
    "#### Ejercicio 1[5 puntos]\n",
    "Considerar los archivos __Terrazas.csv__ y __Locales.csv__ que contiene un censo de locales y actividades del Ayuntamiento de Madrid, clasificados según su tipo de acceso (puerta de calle o agrupado), situación (abierto, cerrado...) e indicación de la actividad económica ejercida y de las terrazas de hostelería y restauración que aparecen registradas en dicho censo. Observar que la información puede contener alguna inconsistencia.Se pide realizar funciones en Python que permitan realizar las siguientes acciones:\n",
    "\n",
    "* Usando los dos archivos indicados, se pide crear un nuevo archivo csv denominados __NoTerrazas.csv__ el cual contenga la información de los locales que no son terrazas. Es decir, contendrá la misma información que el archivo __Locales.csv__ pero sin la información de locales que son Terrazas.\n",
    "\n",
    "* Usando el archivo __Locales.csv__ se pide crear una nuevo archivo csv denominada __Agrupadas.csv__ el cual debe contener una línea por cada barrio conteniendo el número de locales en los que el nombre del vial del edificio en que se encuentran es diferente del nombre del vial de acceso al local. Por ejemplo el local con id 10000401 se encuentra en la Plaza de Isabel II pero el acceso al mismo se realiza desde la Calle Arenal. La información en el archivo debe aparecer en el siguiente orden:\n",
    "\n",
    "  Código Barrio, Nombre Barrio, Número de empresas cumpliendo la condición\n",
    "  \n",
    "\n",
    "\n",
    "* Usando el archivo __Terrazas.csv__ crea un nuevo archivo cvs denominado TopRepeticiones.cvs. Considera el número de veces que se repite el nombre de una terraza (campo rótulo). Se pide crear un archivo csv que contenga los 20 nombres que más se repiten. La información en el archivo debe aparecer en orden descendente con los siguientes campos de información:\n",
    "\n",
    "  Nombre terraza, Número de repeticiones"
   ]
  },
  {
   "cell_type": "code",
   "execution_count": null,
   "metadata": {
    "collapsed": true
   },
   "outputs": [],
   "source": [
    "import csv\n",
    "\n",
    "def foo_1():\n",
    "    \"\"\"Escribe en NoTerrazas.csv los locales que no sean terrazas.\n",
    "    \n",
    "    Variables relevantes:\n",
    "    entrada_locales --- lista de locales\n",
    "    entrada_terrazas --- lista de terrazas\n",
    "    \n",
    "    Excepciones: \n",
    "    FileNotFoundError --- los ficheros no existen en el directorio de trabajo\n",
    "    \n",
    "    \"\"\"\n",
    "    \n",
    "    try:\n",
    "        with open('Locales.csv', \"r\", encoding=\"utf8\", errors='ignore') as locales:\n",
    "            entrada_locales = list(csv.reader(locales, delimiter=\";\"))\n",
    "\n",
    "        with open('Terrazas.csv', \"r\", encoding=\"utf8\", errors='ignore') as terrazas:\n",
    "            entrada_terrazas = list(csv.reader(terrazas, delimiter=\";\"))\n",
    "\n",
    "        with open('NoTerrazas.csv', \"w\", encoding=\"utf8\",errors='ignore') as no_terrazas:\n",
    "            no_terrazas.write(\";\".join(entrada_locales[0]) + \"\\n\")\n",
    "            for i in entrada_locales[1:]:\n",
    "                for j in entrada_terrazas[1:]:\n",
    "                    # Comparamos con el id de los locales, si esta en Terrazas.csv lo descartamos\n",
    "                    if i[0] == j[0]:  \n",
    "                        break\n",
    "                no_terrazas.write(\";\".join(i) + \"\\n\")\n",
    "    except FileNotFoundError:\n",
    "        print(\"Ha habido un problema con los ficheros\")"
   ]
  },
  {
   "cell_type": "code",
   "execution_count": null,
   "metadata": {
    "collapsed": true
   },
   "outputs": [],
   "source": [
    "foo_1()"
   ]
  },
  {
   "cell_type": "code",
   "execution_count": null,
   "metadata": {
    "collapsed": true
   },
   "outputs": [],
   "source": [
    "import csv\n",
    "\n",
    "def foo_2():\n",
    "    \"\"\"Escribe en Agrupadas.csv el id del barrio, su nombre, y el número de locales donde el acceso\n",
    "     es distinto de la localizacion del mismo.\n",
    "    \n",
    "    Variables relevantes:\n",
    "    entrada_locales --- lista de locales\n",
    "    \n",
    "    Excepciones: \n",
    "    FileNotFoundError --- los ficheros no existen en el directorio de trabajo\n",
    "    \n",
    "    \"\"\"\n",
    "    try:\n",
    "        with open('Locales.csv', \"r\", encoding=\"utf8\", errors='ignore') as locales:\n",
    "            entrada_locales = list(csv.reader(locales, delimiter=\";\"))\n",
    "            \n",
    "        with open('Agrupadas.csv', \"w\", encoding=\"utf8\", errors='ignore') as agrupadas:\n",
    "            agrupadas.write(\"Código Barrio, Nombre Barrio, Número de empresas cumpliendo la condición\\n\")\n",
    "            dic = {}\n",
    "            for i in entrada_locales[1:]:\n",
    "                # i[15]+i[16] = nombre del vial del edificio, i[24]+i[25] = nombre del vial del acceso\n",
    "                if (i[15] + i[16]) != (i[24] + i[25]):\n",
    "                    try:\n",
    "                        \"\"\" Extraemos la clave de turno con pop (si está, se borra del diccionario).\n",
    "                        Si no está en el diccionario la metemos con valor (nombre barrio, cantidad \n",
    "                        empresas), si ya estaba la metemos de nuevo con setdefault incrementando \n",
    "                        la cantidad de empresas en 1. Usamos rstrip para eliminar los blancos a la\n",
    "                        derecha de la informacion para facilitar la lectura del fichero de salida\"\"\"\n",
    "                        name, value = dic.pop(i[3])\n",
    "                        dic.setdefault(i[3], (i[4].rstrip(), value + 1))\n",
    "                    except Exception:\n",
    "                        dic.setdefault(i[3], (i[4].rstrip(), 1))\n",
    "            for key in dic:\n",
    "                agrupadas.write(\", \".join([str(key), dic.get(key)[0], str(dic.get(key)[1])]) + \"\\n\")\n",
    "\n",
    "    except FileNotFoundError:\n",
    "        print(\"Ha habido un problema con los ficheros\")\n",
    "      "
   ]
  },
  {
   "cell_type": "code",
   "execution_count": null,
   "metadata": {
    "collapsed": true
   },
   "outputs": [],
   "source": [
    "foo_2()"
   ]
  },
  {
   "cell_type": "code",
   "execution_count": null,
   "metadata": {
    "collapsed": true
   },
   "outputs": [],
   "source": [
    "import csv\n",
    "\n",
    "def foo_3():\n",
    "    \"\"\"Escribe en TopRepeticiones.csv los nombres de las 20 terrazas mas repetidas (y la cantidad)\n",
    "    en Terrazas.csv por orden decreciente de aparicion.\n",
    "    \n",
    "    Variables relevantes:\n",
    "    estrada_terrazas --- lista de terrazas\n",
    "    \n",
    "    Excepciones: \n",
    "    FileNotFoundError --- los ficheros no existen en el directorio de trabajo\n",
    "    \n",
    "    \"\"\"\n",
    "    \n",
    "    try:\n",
    "        with open('Terrazas.csv',encoding=\"utf8\",errors='ignore') as terrazas:\n",
    "            estrada_terrazas = list(csv.reader(terrazas, delimiter=\";\"))\n",
    "\n",
    "        with open('TopRepeticiones.csv', \"w\", encoding=\"utf8\", errors='ignore') as repeticiones:\n",
    "            repeticiones.write(\"Nombre terraza, Número de repeticiones\\n\")\n",
    "            dic = {}\n",
    "            for i in estrada_terrazas[1:]:\n",
    "                try:\n",
    "                    # Sacamos i[21] (campo rotulo) y aplicamos el mismo metodo que en el apartado anterior\n",
    "                    value = dic.pop(i[21])\n",
    "                    dic.setdefault(i[21], value + 1)\n",
    "                except Exception:\n",
    "                    dic.setdefault(i[21], 1)\n",
    "            \"\"\"Usamos sorted en vez de sort para indicar el parametro en base al cual ordenar la lista\n",
    "            y marcamos reverse = True para tener la lista en orden decreciente por cantidad de \n",
    "            repeticiones\"\"\"\n",
    "            lista_terrazas = sorted(dic.items(), key = lambda select: select[1], reverse = True)\n",
    "            for (i, j) in lista_terrazas[:20]: \n",
    "                repeticiones.write(\", \".join([i,str(j)]) + \"\\n\")\n",
    "    except FileNotFoundError:\n",
    "        print(\"Ha habido un problema con los ficheros\")"
   ]
  },
  {
   "cell_type": "code",
   "execution_count": null,
   "metadata": {
    "collapsed": true,
    "scrolled": true
   },
   "outputs": [],
   "source": [
    "foo_3()"
   ]
  },
  {
   "cell_type": "markdown",
   "metadata": {},
   "source": [
    "#### Ejercicio 2[5 puntos]\n",
    "Considerar el archivo __Agenda.json__ que contiene información de actividades de carácter gratuito, para público infantil y adulto, desarrolladas por las siguientes instituciones de titularidad municipal: la red de Bibliotecas Públicas, la Biblioteca Histórica, la Biblioteca Musical Víctor Espinós, la Hemeroteca y la Imprenta. Se presentan las actividades de los próximos 60 dias. Se pide realizar funciones en Python que permitan realizar las siguientes acciones:\n",
    "\n",
    "* El archivo contiene un campo denominado \"audience\" que indica el público al que va dirigido. A veces aparece y otras veces no aparece dicho campo. Se quiere procesar el archivo para obtener como resultado dos archivos de texto:el archivo __Niños.txt__ que contendrá la información de los eventos que es exclusivamente para niños y el archivo __Familias.txt__ que contendrá la información de los eventos que está dirigida a niños y familias. En los archivos debe aparecer una línea por cada evento cumpliendo las condiciones indicadas, y mostrando la información siguiente:\n",
    "  \n",
    "   Título del evento(campo title), inicio(campo \"dtstart\"), finalizacion(campo \"dtend\"), url(campo link)\n",
    "   \n",
    "   \n",
    "* Se desea conocer los eventos más cercanos a un punto que viene especificado por su longitud y latitud. De manera que se quiere crear una función que tomando como entrada una longitud, una latitud y un número real que representa una distancia en kilometros, devuelva como resultado los eventos que se encuentran a una distancia menor o igual a la distancia dada como parámetro. El resultado se mostrará por la pantalla mostrando una línea por cada evento. De cada evento se mostrará:\n",
    "\n",
    "  Título del evento(campo title), inicio(campo \"dtstart\"), finalizacion(campo \"dtend\"), url(campo link)\n",
    "  \n",
    "Para calcular la distancia entre dos puntos dadas sus coordenadas se utilizará la siguiente función en Python:"
   ]
  },
  {
   "cell_type": "code",
   "execution_count": null,
   "metadata": {
    "collapsed": true
   },
   "outputs": [],
   "source": [
    "import math\n",
    "import json\n",
    "\n",
    "#Función que devuelve los datos relevantes del evento (los que pide el enunciado) en forma de cadena.\n",
    "def get_data (event):\n",
    "    return \",\".join([event['title'], event['dtstart'], event['dtend'], event['link']])\n",
    "\n",
    "#Función que calcula la longitud entre dos puntos.\n",
    "def haversine(lat1, lon1, lat2, lon2):\n",
    "    rad=math.pi/180\n",
    "    dlat=lat2-lat1\n",
    "    dlon=lon2-lon1\n",
    "    R=6372.795477598\n",
    "    a=(math.sin(rad*dlat/2))**2 + math.cos(rad*lat1)*math.cos(rad*lat2)*(math.sin(rad*dlon/2))**2\n",
    "    distancia=2*R*math.asin(math.sqrt(a))\n",
    "    return distancia"
   ]
  },
  {
   "cell_type": "code",
   "execution_count": null,
   "metadata": {
    "collapsed": true
   },
   "outputs": [],
   "source": [
    "import json\n",
    "\n",
    "#Coste O(n), siendo n el número de eventos del fichero Agenda.json\n",
    "def foo_4():\n",
    "    try:\n",
    "        familias_write = open('Familias.txt', 'w')\n",
    "        ninios_write = open('Niños.txt', 'w')\n",
    "        datos = json.loads(open('Agenda.json', encoding=\"utf8\").read())\n",
    "\n",
    "        for x in datos['@graph']:\n",
    "            result = x.get('audience',0)\n",
    "            if (result!=0):\n",
    "                if(result==\"Niños\"):\n",
    "                    ninios_write.write(get_data(x)+\"\\n\")\n",
    "                elif (result==\"Niños,Familias\"):\n",
    "                    familias_write.write(get_data(x)+\"\\n\")\n",
    "        familias_write.close()\n",
    "        ninios_write.close()\n",
    "    except IOError:\n",
    "        print(\"Error con los ficheros de entrada/salida\")"
   ]
  },
  {
   "cell_type": "code",
   "execution_count": null,
   "metadata": {
    "collapsed": true
   },
   "outputs": [],
   "source": [
    "foo_4()"
   ]
  },
  {
   "cell_type": "code",
   "execution_count": null,
   "metadata": {},
   "outputs": [],
   "source": [
    "import json\n",
    "\n",
    "#Coste 0(n), siendo n el número de eventos del fichero Agenda.json\n",
    "def foo_5(latitude, longitude, distance):\n",
    "    try:\n",
    "        datos = json.loads(open('Agenda.json',encoding=\"utf8\").read())\n",
    "        for x in datos['@graph']:\n",
    "            if(haversine(x['location']['latitude'],x['location']['longitude'], latitude, longitude)<=distance):\n",
    "                print(get_data(x))    \n",
    "    except IOError:\n",
    "        print(\"Error con los ficheros de entrada/salida.\")\n",
    "        \n",
    "try:\n",
    "    latitude = int(input(\"Latitud: \"))\n",
    "    longitude = int(input(\"Longitud: \"))\n",
    "    distance = int(input(\"Distance: \"))\n",
    "    if distance < 0 or latitude < -90 or latitude > 90 or longitude < -180 or longitude > 180:\n",
    "        raise ValueError\n",
    "    foo_5(latitude, longitude, distance)\n",
    "except ValueError:\n",
    "        print(\"Los datos aportados son incorrectos.\")\n",
    "        \n"
   ]
  },
  {
   "cell_type": "markdown",
   "metadata": {},
   "source": [
    "#### Normas de entrega\n",
    "\n",
    "* Fecha tope de entrega: 27/10/2017\n",
    "* La entrega se realizará subiendo al campus virtual un notebook de Jupyter con la solución. El archivo tendrá como nombre FormatosI_GrupoX donde X será el número de grupo correspondiente."
   ]
  }
 ],
 "metadata": {
  "kernelspec": {
   "display_name": "Python 3",
   "language": "python",
   "name": "python3"
  },
  "language_info": {
   "codemirror_mode": {
    "name": "ipython",
    "version": 3
   },
   "file_extension": ".py",
   "mimetype": "text/x-python",
   "name": "python",
   "nbconvert_exporter": "python",
   "pygments_lexer": "ipython3",
   "version": "3.6.2"
  }
 },
 "nbformat": 4,
 "nbformat_minor": 2
}
