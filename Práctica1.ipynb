{
 "cells": [
  {
   "cell_type": "markdown",
   "metadata": {},
   "source": [
    "### Práctica de Introducción al lenguaje Python"
   ]
  },
  {
   "cell_type": "markdown",
   "metadata": {},
   "source": [
    "#### Ejercicio 1[3 puntos]\n",
    "Considerar las monedas y billetes en curso de la Unión Europea. Se pide hacer un programa con  las funciones necesarias para  gestionar un terminal de punto de venta. Concretamente se quiere ayudar al cajero de manera que cuando introduzca el importe de la venta y el dinero entregado por el cliente, el programa muestre las vueltas que debe entregar al cliente de una forma óptima. Las vueltas son óptimas si para pagar una cantidad C se utiliza el menor número posible de monedas o billetes. Se va a suponer que existen monedas y billetes infinitos en el terminal de punto de venta."
   ]
  },
  {
   "cell_type": "code",
   "execution_count": 5,
   "metadata": {},
   "outputs": [
    {
     "name": "stdout",
     "output_type": "stream",
     "text": [
      "EJERCICIO 1\n",
      "\n",
      "Introduce el importe de la venta:5000\n",
      "Introduce el dinero entregado:37589.51\n",
      "65 Billete/s de 500€\n",
      "1 Billete/s de 50€\n",
      "1 Billete/s de 20€\n",
      "1 Billete/s de 10€\n",
      "1 Billete/s de 5€\n",
      "2 Moneda/s de 2€\n",
      "1 Moneda/s de 50 céntimos\n",
      "1 Moneda/s de 1 céntimos\n"
     ]
    }
   ],
   "source": [
    "import math\n",
    "print (\"EJERCICIO 1\\n\")\n",
    "\n",
    "while True:\n",
    "    importe_venta = float(input(\"Introduce el importe de la venta:\"))\n",
    "    dinero_entregado = float(input(\"Introduce el dinero entregado:\"))\n",
    "    if importe_venta > 0 and dinero_entregado >= importe_venta:\n",
    "        break\n",
    "    print(\"Datos incorrectos, introdúcelos de nuevo\")\n",
    "\n",
    "vueltas = round(dinero_entregado - importe_venta,2)\n",
    "\n",
    "if vueltas == 0:\n",
    "    print (\"Dinero entregado exacto\")\n",
    "else:\n",
    "    monedas = [500,200,100,50,20,10,5,2,1,0.50,0.20,0.10,0.05,0.02,0.01]\n",
    "\n",
    "    for i in monedas:\n",
    "        # Trunca el valor\n",
    "        cantidad_monedas = math.trunc((vueltas / i))\n",
    "        if cantidad_monedas != 0:\n",
    "            if i > 2:\n",
    "                print (str(cantidad_monedas) + \" Billete/s de \" + str(i) + \"€\")\n",
    "            elif i >= 1:\n",
    "                print (str(cantidad_monedas) + \" Moneda/s de \" + str(i) + \"€\")\n",
    "            else:\n",
    "                print (str(cantidad_monedas) + \" Moneda/s de \" + str(int(i*100)) + \" céntimos\")\n",
    "            vueltas = round(vueltas % i,2)\n",
    "        #if vueltas == 0:\n",
    "        #    break\n",
    "de"
   ]
  },
  {
   "cell_type": "markdown",
   "metadata": {},
   "source": [
    "#### Ejercicio 2[3,5 puntos]\n",
    "Considerar un sistema de cifrado en el que se sustituye cada letra en el texto original por otra letra que se encuentra un número fijo de posiciones más adelante en el alfabeto. Por ejemplo si el desplazamiento es 3 posiciones, y se considera la letra A, entonces sería sustituida por la letra D que se encuentra situada 3 lugares a la derecha de la A. Se considera que el alfabeto es circular por lo que a continuación de la Z comienza la letra A. Sólo se codifican las letras, el resto de símbolos se mantienen tal cual. A continuación, una vez cifrado el texto, si éste contiene más de una palabra, entonces se reordenan las palabras cifradas, moviendo cada palabra m posiciones hacia la derecha. Así la palabra que ocupa la posición 1 se mueve a la posición m+1, y así sucesivamente (la palabra que ocupa la posición n se moverá a la posición m). Se pide implementar un programa en Python que solicite al usuario que introduzca por teclado un texto a codificar, dos números que representan el desplazamiento de letras y el desplazamiento de las palabras codificadas. Como resultado, el programa mostrará por pantalla el mensaje codificado. Se deben hacer las comprobaciones necesarias sobre la entrada, es decir que es una cadena y 2 números.\n"
   ]
  },
  {
   "cell_type": "code",
   "execution_count": 13,
   "metadata": {
    "collapsed": true
   },
   "outputs": [],
   "source": [
    "def pedir_datos():\n",
    "    texto = input(\"Texto a codificar: \").upper();\n",
    "    desplazamiento_letras=\"\"\n",
    "    desplazamiento_palabras=\"\"\n",
    "\n",
    "    while True:\n",
    "        desplazamiento_letras = input(\"Desplazamiento letras: \")\n",
    "        desplazamiento_palabras = input(\"Desplazamiento palabras: \")\n",
    "        try:\n",
    "            desplazamiento_letras = int(desplazamiento_letras)\n",
    "            desplazamiento_palabras = int(desplazamiento_palabras)\n",
    "            \n",
    "            if desplazamiento_letras >= 0 and desplazamiento_palabras >= 0:\n",
    "                break\n",
    "            else:\n",
    "                print(\"Los desplazamientos han de ser positivos.\")\n",
    "        except ValueError:\n",
    "            print (\"Atención! Debe ingresar un número entero.\")\n",
    "    return texto, desplazamiento_letras, desplazamiento_palabras\n",
    "    \n",
    "def cifrar_cadena(desplazamiento, texto):\n",
    "    result=\"\"\n",
    "    for x in texto:\n",
    "        code = ord(x)\n",
    "        # Es letra\n",
    "        if (code > 64) and (code < 91):\n",
    "            code = code + desplazamiento\n",
    "\n",
    "            if code > 90:\n",
    "                code = code - 90 + 64\n",
    "\n",
    "        result= result + chr(code)\n",
    "    return result\n",
    "\n",
    "def desplazar_cadena(desplazamiento, cadena):\n",
    "    resultado = \"\"\n",
    "    for x in range(0, len(cadena)):\n",
    "        resultado += cadena[(len(cadena) - desplazamiento + x) % len(cadena)] + \" \"\n",
    "    return resultado"
   ]
  },
  {
   "cell_type": "code",
   "execution_count": 12,
   "metadata": {},
   "outputs": [
    {
     "name": "stdout",
     "output_type": "stream",
     "text": [
      "EJERCICIO 2\n",
      "Texto a codificar: Hola que tal\n",
      "Desplazamiento letras: -1\n",
      "Desplazamiento palabras: 2\n",
      "Los desplazamientos han de ser positivos.\n",
      "Desplazamiento letras: 2\n",
      "Desplazamiento palabras: -1\n",
      "Los desplazamientos han de ser positivos.\n",
      "Desplazamiento letras: 2\n",
      "Desplazamiento palabras: 2\n",
      "SWG VCN JQNC \n"
     ]
    }
   ],
   "source": [
    "print(\"EJERCICIO 2\\n\")\n",
    "\n",
    "texto, desplazamiento_letras, desplazamiento_palabras = pedir_datos()\n",
    "\n",
    "texto = cifrar_cadena(desplazamiento_letras,texto).split() \n",
    "\n",
    "print (desplazar_cadena(desplazamiento_palabras, texto))"
   ]
  },
  {
   "cell_type": "markdown",
   "metadata": {},
   "source": [
    "#### Ejercicio 3[3,5 puntos]\n",
    "Implementar un programa en Python tal que tomando como entrada el nombre de un archivo de texto, analice el contenido  y escriba otro archivo de salida que muestre el número de veces que aparece cada palabra. Se deben eliminar separadores, conjunciones, artículos y preposiciones."
   ]
  },
  {
   "cell_type": "code",
   "execution_count": 6,
   "metadata": {},
   "outputs": [
    {
     "name": "stdout",
     "output_type": "stream",
     "text": [
      "Nombre del archivo de entradaprueba\n",
      "Nombre del archivo de salidasalida\n",
      "---LECTURA---\n"
     ]
    }
   ],
   "source": [
    "print(\"EJERCICIO 3\\n\")\n",
    "\n",
    "lectura = str(input(\"Nombre del archivo de entrada: \"))\n",
    "salida = str(input(\"Nombre del archivo de salida: \"))\n",
    "\n",
    "conjunciones = [\"al\", \"del\"]\n",
    "articulos = [\"el\",\"la\",\"los\",\"las\",\"los\",\"un\",\"una\",\"unos\",\"unas\"]\n",
    "preposiciones = [\"a\",\"ante\",\"bajo\",\"cabe\",\"con\",\"contra\",\"de\",\"desde\",\"en\",\"entre\",\"hacia\",\"hasta\",\"para\",\"por\",\"segun\",\"sin\",\"sobre\",\"tras\",\"durante\",\"mediante\"]\n",
    "separadores = [\".\",\",\",\";\",\":\"]\n",
    "resultado = []\n",
    "\n",
    "fichero=open(lectura,\"r\")\n",
    "texto= fichero.read().lower().replace(\"\\n\",\" \")\n",
    "fichero.close()\n",
    "\n",
    "for i in texto:\n",
    "    if(i in separadores):\n",
    "        texto = texto.replace(i, \"\")\n",
    "\n",
    "dic={}\n",
    "for palabra in texto.split():\n",
    "    if (palabra in conjunciones or palabra in articulos or palabra in preposiciones): pass\n",
    "    else:\n",
    "        x= dic.get(palabra,0)\n",
    "        if(x==0): dic[palabra]=1\n",
    "        else: dic[palabra]=x+1\n",
    "\n",
    "fichero=open(salida,\"w\")\n",
    "for x,y in dic.items():\n",
    "    fichero.write(str(x) + \" \" + str(y) +\"\\n\")\n",
    "fichero.close()\n"
   ]
  },
  {
   "cell_type": "markdown",
   "metadata": {},
   "source": [
    "#### Normas de entrega\n",
    "\n",
    "* Fecha tope de entrega: 13/10/2017\n",
    "* La entrega se realizará subiendo al campus virtual un notebook de Jupyter con la solución. El archivo tendrá como nombre IntroPython_GrupoX donde X será el número de grupo correspondiente."
   ]
  }
 ],
 "metadata": {
  "anaconda-cloud": {},
  "kernelspec": {
   "display_name": "Python 3",
   "language": "python",
   "name": "python3"
  },
  "language_info": {
   "codemirror_mode": {
    "name": "ipython",
    "version": 3
   },
   "file_extension": ".py",
   "mimetype": "text/x-python",
   "name": "python",
   "nbconvert_exporter": "python",
   "pygments_lexer": "ipython3",
   "version": "3.6.2"
  }
 },
 "nbformat": 4,
 "nbformat_minor": 1
}
