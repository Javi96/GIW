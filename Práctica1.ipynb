{
 "cells": [
  {
   "cell_type": "markdown",
   "metadata": {},
   "source": [
    "### Práctica de Introducción al lenguaje Python"
   ]
  },
  {
   "cell_type": "markdown",
   "metadata": {},
   "source": [
    "#### Ejercicio 1[3 puntos]\n",
    "Considerar las monedas y billetes en curso de la Unión Europea. Se pide hacer un programa con  las funciones necesarias para  gestionar un terminal de punto de venta. Concretamente se quiere ayudar al cajero de manera que cuando introduzca el importe de la venta y el dinero entregado por el cliente, el programa muestre las vueltas que debe entregar al cliente de una forma óptima. Las vueltas son óptimas si para pagar una cantidad C se utiliza el menor número posible de monedas o billetes. Se va a suponer que existen monedas y billetes infinitos en el terminal de punto de venta."
   ]
  },
  {
   "cell_type": "markdown",
   "metadata": {},
   "source": [
    "#### Ejercicio 2[3,5 puntos]\n",
    "Considerar un sistema de cifrado en el que se sustituye cada letra en el texto original por otra letra que se encuentra un número fijo de posiciones más adelante en el alfabeto. Por ejemplo si el desplazamiento es 3 posiciones, y se considera la letra A, entonces sería sustituida por la letra D que se encuentra situada 3 lugares a la derecha de la A. Se considera que el alfabeto es circular por lo que a continuación de la Z comienza la letra A. Sólo se codifican las letras, el resto de símbolos se mantienen tal cual. A continuación, una vez cifrado el texto, si éste contiene más de una palabra, entonces se reordenan las palabras cifradas, moviendo cada palabra m posiciones hacia la derecha. Así la palabra que ocupa la posición 1 se mueve a la posición m+1, y así sucesivamente (la palabra que ocupa la posición n se moverá a la posición m). Se pide implementar un programa en Python que solicite al usuario que introduzca por teclado un texto a codificar, dos números que representan el desplazamiento de letras y el desplazamiento de las palabras codificadas. Como resultado, el programa mostrará por pantalla el mensaje codificado. Se deben hacer las comprobaciones necesarias sobre la entrada, es decir que es una cadena y 2 números.\n"
   ]
  },
  {
   "cell_type": "markdown",
   "metadata": {},
   "source": [
    "#### Ejercicio 3[3,5 puntos]\n",
    "Implementar un programa en Python tal que tomando como entrada el nombre de un archivo de texto, analice el contenido  y escriba otro archivo de salida que muestre el número de veces que aparece cada palabra. Se deben eliminar separadores, conjunciones, artículos y preposiciones."
   ]
  },
  {
   "cell_type": "markdown",
   "metadata": {},
   "source": [
    "#### Normas de entrega\n",
    "\n",
    "* Fecha tope de entrega: 13/10/2017\n",
    "* La entrega se realizará subiendo al campus virtual un notebook de Jupyter con la solución. El archivo tendrá como nombre IntroPython_GrupoX donde X será el número de grupo correspondiente."
   ]
  },
  {
   "cell_type": "code",
   "execution_count": 47,
   "metadata": {},
   "outputs": [
    {
     "name": "stdout",
     "output_type": "stream",
     "text": [
      "EJERCICIO 1\n",
      "\n",
      "Precio de venta: 1\n",
      "Cantidad a pagar: 2\n",
      "1 Moneda/s de 1€\n"
     ]
    }
   ],
   "source": [
    "import math\n",
    "print (\"EJERCICIO 1\\n\")\n",
    "\n",
    "precio = float(input(\"Precio de venta: \"))\n",
    "pago = float(input(\"Cantidad a pagar: \"))\n",
    "vueltas = round(pago - precio,2)\n",
    "\n",
    "if vueltas < 0:\n",
    "    print (\"Cantidad a pagar insuficiente\")\n",
    "else:\n",
    "    monedas = [500,200,100,50,20,10,5,2,1,0.50,0.20,0.10,0.05,0.02,0.01]\n",
    "\n",
    "    for i in monedas:\n",
    "        cantidad = math.trunc((vueltas / i))\n",
    "        if cantidad != 0:\n",
    "            if i > 2:\n",
    "                print (str(cantidad) + \" Billete/s de \" + str(i) + \"€\")\n",
    "            elif i >= 1:\n",
    "                print (str(cantidad) + \" Moneda/s de \" + str(i) + \"€\")\n",
    "            else:\n",
    "                print (str(cantidad) + \" Moneda/s de \" + str(int(i*100)) + \" céntimos\")\n",
    "            vueltas = round(vueltas % i,2)\n"
   ]
  },
  {
   "cell_type": "code",
   "execution_count": 2,
   "metadata": {},
   "outputs": [
    {
     "name": "stdout",
     "output_type": "stream",
     "text": [
      "EJERCICIO 2\n",
      "Texto a codificar: Hola muy buenas\n",
      "Desplazamiento letras: h\n",
      "Atención! Debe ingresar un número entero.\n",
      "Desplazamiento letras: 1\n",
      "Desplazamiento palabras: fer\n",
      "Atención! Debe ingresar un número entero.\n",
      "Desplazamiento palabras: 1.3\n",
      "Atención! Debe ingresar un número entero.\n",
      "Desplazamiento palabras: 2\n",
      " NVZ CVFOBT IPMB\n"
     ]
    }
   ],
   "source": [
    "print(\"EJERCICIO 2\")\n",
    "\n",
    "texto = input(\"Texto a codificar: \").upper();\n",
    "desplazamientoLetras\n",
    "desplazamientoPalabras\n",
    "\n",
    "while True:\n",
    "    desplazamientoLetras = input(\"Desplazamiento letras: \")\n",
    "    try:\n",
    "        desplazamientoLetras = int(desplazamientoLetras)\n",
    "        break\n",
    "    except ValueError:\n",
    "        print (\"Atención! Debe ingresar un número entero.\")\n",
    "\n",
    "while True:\n",
    "    desplazamientoPalabras = input(\"Desplazamiento palabras: \")\n",
    "    try:\n",
    "        desplazamientoPalabras = int(desplazamientoPalabras)\n",
    "        break\n",
    "    except ValueError:\n",
    "        print (\"¡Atención! Debe ingresar un número entero.\")\n",
    "\n",
    "result=\"\"\n",
    "contador = 0\n",
    "\n",
    "for x in texto:\n",
    "    code = ord(x)\n",
    "    # Es letra\n",
    "    if (code > 64) and (code < 91):\n",
    "        code = code + desplazamientoLetras\n",
    "\n",
    "        if code > 90:\n",
    "            code = code - 90 + 64\n",
    "\n",
    "    result= result + chr(code)\n",
    "\n",
    "    contador = contador+1\n",
    "\n",
    "lista = result.split() \n",
    "\n",
    "i=0\n",
    "posicion=len(lista)-desplazamientoPalabras\n",
    "final=\"\"\n",
    "while(i< len(lista)):\n",
    "    final = final + \" \" + lista[posicion]\n",
    "    i=i+1\n",
    "    posicion=(posicion+1)%len(lista)\n",
    "\n",
    "print (final)"
   ]
  },
  {
   "cell_type": "code",
   "execution_count": 59,
   "metadata": {},
   "outputs": [
    {
     "name": "stdout",
     "output_type": "stream",
     "text": [
      "EJERCICIO 3\n",
      " \n",
      "Nombre del archivo de entrada: fer.txt\n",
      "Nombre del archivo de salida: alf.txt\n",
      "Se ha completado con éxito.\n"
     ]
    }
   ],
   "source": [
    "print(\"EJERCICIO 3\\n \")\n",
    "\n",
    "invalidas = \"y e o u el la los las a ante bajo cabe con contra de desde durante en entre hacia hasta mediante para por según sin so sobre tras durante mediante excepto salvo incluso más menos\".split(\" \")\n",
    "\n",
    "aEntrada = str(input(\"Nombre del archivo de entrada: \"))\n",
    "try:\n",
    "    fInput = open(aEntrada,\"r\")\n",
    "    aSalida = str(input(\"Nombre del archivo de salida: \"))\n",
    "    fOutput = open(aSalida, \"w\")\n",
    "    \n",
    "    # Primero remplazo con el fin de que el intro también separe\n",
    "    text = fInput.read().replace(\"\\n\", \" \").split(\" \")\n",
    "    text = list(set (text) - set (invalidas))\n",
    "    \n",
    "    for i in range(len(text)):\n",
    "        text[i] = text[i].replace(\",\",\"\")\n",
    "        text[i] = text[i].replace(\".\",\"\")\n",
    "        text[i] = text[i].replace(\":\",\"\")\n",
    "        text[i] = text[i].replace(\";\",\"\")        \n",
    "    \n",
    "    for i in text:\n",
    "        cantidad = text.count(i)\n",
    "        \n",
    "        if cantidad > 1:\n",
    "            fOutput.write (str(i) + \" aparece \" + str(cantidad) + \" veces\\n\")\n",
    "        else:\n",
    "            fOutput.write (str(i) + \" aparece 1 vez\\n\")\n",
    "        \n",
    "        for j in range(cantidad):\n",
    "            text.remove(i)\n",
    "\n",
    "    fInput.close()\n",
    "    fOutput.close()\n",
    "    \n",
    "    print(\"Se ha completado con éxito.\")\n",
    "except FileNotFoundError:\n",
    "    print (\"¡Atención! Fichero de entrada no encontrado\")"
   ]
  }
 ],
 "metadata": {
  "anaconda-cloud": {},
  "kernelspec": {
   "display_name": "Python 3",
   "language": "python",
   "name": "python3"
  },
  "language_info": {
   "codemirror_mode": {
    "name": "ipython",
    "version": 3
   },
   "file_extension": ".py",
   "mimetype": "text/x-python",
   "name": "python",
   "nbconvert_exporter": "python",
   "pygments_lexer": "ipython3",
   "version": "3.6.2"
  }
 },
 "nbformat": 4,
 "nbformat_minor": 1
}
