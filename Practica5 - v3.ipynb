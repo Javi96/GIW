{
 "cells": [
  {
   "cell_type": "markdown",
   "metadata": {},
   "source": [
    "### Práctica de Web Scraping\n",
    "\n",
    "Se va a considerar una de las páginas vista en la teoría que contiene fotos de trenes:https://www.vialibre-ffe.com/multi_foto.asp?cs=mult. En esta página aparece un menú con varios grupos de fotos de trenes. A su vez, cada grupo contiene un conjunto de subgrupos de fotos. Por ejemplo, el grupo __Renfe operadora__ se encuentra en la página https://www.vialibre-ffe.com/multi_ind_fotos.asp?cat=mu01."
   ]
  },
  {
   "cell_type": "code",
   "execution_count": null,
   "metadata": {
    "collapsed": true
   },
   "outputs": [],
   "source": [
    "from IPython.display import Image\n",
    "Image(filename='Captura1.png')"
   ]
  },
  {
   "cell_type": "markdown",
   "metadata": {},
   "source": [
    "Dentro de este grupo por ejemplo se encuentra el subgrupo __Serie120 en Irún-Hendaya__ en la página https://www.vialibre-ffe.com/multi_galeria.asp?gal=524. "
   ]
  },
  {
   "cell_type": "code",
   "execution_count": null,
   "metadata": {
    "collapsed": true
   },
   "outputs": [],
   "source": [
    "from IPython.display import Image\n",
    "Image(filename='Captura2.png')"
   ]
  },
  {
   "cell_type": "markdown",
   "metadata": {},
   "source": [
    "En dicho subgrupo se encuentran las imágenes de dicho subgrupo. Por ejemplo, a continuación, se muestra una de las imágenes del subgrupo __Serie120 en Irún-Hendaya__"
   ]
  },
  {
   "cell_type": "code",
   "execution_count": null,
   "metadata": {
    "collapsed": true
   },
   "outputs": [],
   "source": [
    "from IPython.display import Image\n",
    "Image(filename='Captura1.png')\n",
    "#for i in range(1,4):\n",
    "#    Image(filename='Captura'+str(i)+'.png')"
   ]
  },
  {
   "cell_type": "markdown",
   "metadata": {},
   "source": [
    "Las imágenes contenidas en dicha página se pueden encontrar en las etiquetas __&lt;li> &lt;img ...__ que son hijas de la etiqueta __&lt;ul class=\"pgwSlideshow\">__. Por ejemplo en la página de ejemplo, la primera imagen de dicha página es:\n",
    "\n",
    "   __&lt;li>&lt;img src=\"multimedia/galerias/IRUN120/2Alvia_120.jpg\" alt=\"\" data-description=\"\">&lt;/li>__\n",
    "   \n",
    "A continuación, se puede ver el contenido html de esa página."
   ]
  },
  {
   "cell_type": "code",
   "execution_count": null,
   "metadata": {
    "collapsed": true
   },
   "outputs": [],
   "source": [
    "import requests\n",
    "url=\"https://www.vialibre-ffe.com/multi_galeria.asp?gal=524\"\n",
    "r = requests.get(url)\n",
    "html = r.text\n",
    "print(html)"
   ]
  },
  {
   "cell_type": "markdown",
   "metadata": {},
   "source": [
    "Se pide:\n",
    "\n",
    " 1. Crear un programa en __Python__ que muestre un menú con los grupos de fotos, y que pregunte al usuario que grupo de fotos quiere visitar. Se puede asociar a cada grupo un número, y solicitar al usuario que introduzca por teclado el número del grupo. A continuación, se mostrará los subgrupos de ese grupo, y se le preguntará nuevamente al usuario que subgrupo de fotos quiere procesar. Igual que antes, se puede asociar a cada subgrupo un número, y que introduzca por teclado el número del subgrupo. Como resultado se creará un directorio en el disco local para el subgrupo elegido y en el directorio se bajarán las imágenes de los trenes. Se imprimirá por pantalla las urls de las imágenes que se están bajando. Toda la información utilizada en el programa, debe ser extraida de las páginas consideradas usando BeautifulSoup[6 puntos]\n",
    " \n",
    " 2. Crear un minibuscador en __Python__ que pregunte al usuario un conjunto de palabras clave, y  recorra el sitio web buscando todos los subgrupos en cuyo título aparezca alguna de las palabras claves. Como resultado debe mostrar los subgrupos encontrados, listando el nombre y la url de cada subgrupo [4 puntos]"
   ]
  },
  {
   "cell_type": "markdown",
   "metadata": {
    "collapsed": true
   },
   "source": [
    "# Normas de entrega\n",
    "\n",
    "* Fecha tope de entrega: 18/11/2017\n",
    "* La entrega se realizará subiendo al campus virtual un notebook de Jupyter con la solución. El archivo tendrá como nombre WebScraping_GrupoX donde X será el número de grupo correspondiente.\n"
   ]
  },
  {
   "cell_type": "code",
   "execution_count": 3,
   "metadata": {
    "collapsed": true
   },
   "outputs": [],
   "source": [
    "import urllib\n",
    "from bs4 import BeautifulSoup\n",
    "\n",
    "def dig_gallery(url):\n",
    "    html=urllib.request.urlopen(url).read()\n",
    "    soup=BeautifulSoup(html, 'html.parser')\n",
    "    etiquetas=soup(\"a\",{'class': 'tit_art_dest'})\n",
    "    cont = 0\n",
    "    dic_gallery = {}\n",
    "    for etiqueta in etiquetas:\n",
    "        tag = etiqueta.get(\"href\",None)\n",
    "        name = etiqueta.contents[0]\n",
    "        dic_gallery[cont] = (name, tag)\n",
    "        cont = cont+1\n",
    "    return dic_gallery\n",
    "\n",
    "def print_gallery(dic):\n",
    "    for x in dic:\n",
    "        print (str(x) + \" - \" + dic[x][0])\n",
    "\n",
    "def dig_images(url):\n",
    "    html=urllib.request.urlopen(url).read()\n",
    "    soup=BeautifulSoup(html, 'html.parser')\n",
    "    etiquetas=soup(\"ul\",{'class': 'pgwSlideshow'})\n",
    "    for etiqueta in etiquetas:\n",
    "        images = etiqueta.find_all('img')\n",
    "    return images"
   ]
  },
  {
   "cell_type": "code",
   "execution_count": 4,
   "metadata": {
    "collapsed": true
   },
   "outputs": [],
   "source": [
    "import os\n",
    "import urllib.request\n",
    "\n",
    "def download_image(url):\n",
    "    img = urllib.request.urlopen(url)\n",
    "    words=url.split('/')\n",
    "    fname=words[-1]\n",
    "\n",
    "    manf=open(fname,\"wb\")\n",
    "    while True:\n",
    "        info=img.read(100000)\n",
    "        if len(info)<1:\n",
    "            break\n",
    "        manf.write(info)\n",
    "    manf.close()\n",
    "\n",
    "def download_gallery(imagenes):\n",
    "    for img in imagenes:\n",
    "        img_src = img.get('src').strip()\n",
    "        url_img = \"https://www.vialibre-ffe.com/\" + img_src\n",
    "        print(url_img)\n",
    "        download_image(url_img)\n",
    "    os.chdir(\"..\")\n",
    "\n",
    "def create_dir(file):\n",
    "    try:\n",
    "        os.makedirs(file)\n",
    "    except OSError:\n",
    "        pass\n",
    "    os.chdir(file)\n",
    "    "
   ]
  },
  {
   "cell_type": "code",
   "execution_count": 6,
   "metadata": {},
   "outputs": [
    {
     "name": "stdout",
     "output_type": "stream",
     "text": [
      "0 - Renfe Operadora\n",
      "1 - \n",
      "\t\t\t\t\t\tAutonómicos\n",
      "2 - Metropolitanos\n",
      "3 - Tranvías\n",
      "4 - Otros operadores\n",
      "5 - Infraestructuras\n",
      "6 - Instalaciones\n",
      "7 - Estaciones\n",
      "8 - Internacional\n",
      "9 - Históricas\n",
      "10 - Museos y Trenes\n",
      "11 - Varios\n",
      "Selecciona una galería: 3\n",
      "\n",
      "\n",
      "0 - Tranvía de Florencia\n",
      "1 - Tranvías Urbos por el mundo\n",
      "2 - Tranvía Bahía de Cádiz\n",
      "3 - El tranvía de Arratia, un eléctrico interurbano\n",
      "4 - El centenario tranvía de Sóller\n",
      "5 - Tranvía de Besançon (Francia)\n",
      "6 - Tranvía de Zaragoza: Concurso de fotografía\n",
      "7 - Tranvías de Bombardier en el mundo\n",
      "8 - Tram de Alicante\n",
      "9 - Tranvías de Praga\n",
      "10 - Dualis, el nuevo tren-tram de Alstom\n",
      "11 - Tranvía de Santos, Brasil\n",
      "12 - Tranvía de Barcelona\n",
      "13 - Tranvía de Bilbao\n",
      "14 - Llega a Alicante el tranvía 4200 para la línea 2 del Tram\n",
      "15 - Tranvía de León\n",
      "16 - El tranvía sin catenaria de CAF\n",
      "17 - Viejos tranvías de Madrid\n",
      "18 - 60 Aniversario de la EMT de  Madrid\n",
      "19 - Tranvía de Valencia\n",
      "20 - Tranvía de Turín\n",
      "21 - Metro de Dubai\n",
      "22 - Metro Ligero ML1 - Pinar de Chamartín - Sanchinarro - Las Tablas\n",
      "23 - El tranvía de Vitoria cumple un año\n",
      "24 - LISBOA. Tranvías y elevadores\n",
      "25 - Tranvía de Tenerife\n",
      "26 - Tranvía de Parla\n",
      "27 - Tranvía de Alicante\n",
      "Selecciona una galería: 0\n",
      "\n",
      "\n",
      "https://www.vialibre-ffe.com/multimedia/galerias/Florencia/SirioFirenze_gallery_001.jpg\n",
      "https://www.vialibre-ffe.com/multimedia/galerias/Florencia/SirioFirenze_gallery_002.jpg\n",
      "https://www.vialibre-ffe.com/multimedia/galerias/Florencia/SirioFirenze_gallery_003.jpg\n",
      "https://www.vialibre-ffe.com/multimedia/galerias/Florencia/SirioFirenze_gallery_13_g.jpg\n",
      "https://www.vialibre-ffe.com/multimedia/galerias/Florencia/SirioFirenze_gallery_111_g.jpg\n",
      "https://www.vialibre-ffe.com/multimedia/galerias/Florencia/SirioFirenze_gallery_14_g.jpg\n",
      "https://www.vialibre-ffe.com/multimedia/galerias/Florencia/SirioFirenze_gallery_15_g.jpg\n"
     ]
    }
   ],
   "source": [
    "import os\n",
    "\n",
    "main = \"https://www.vialibre-ffe.com/multi_foto.asp?cs=mult\"\n",
    "galerias = dig_gallery(main)\n",
    "print_gallery(galerias)\n",
    "\n",
    "select = int(input(\"Selecciona una galería: \"))\n",
    "print (\"\\n\")\n",
    "section = galerias[select][1]\n",
    "url = \"https://www.vialibre-ffe.com/\" + section\n",
    "\n",
    "sub_galerias = dig_gallery(url)\n",
    "print_gallery(sub_galerias)\n",
    "\n",
    "select = int(input(\"Selecciona una galería: \"))\n",
    "print (\"\\n\")\n",
    "section = sub_galerias[select][1]\n",
    "url = \"https://www.vialibre-ffe.com/\" + section\n",
    "file = sub_galerias[select][0]\n",
    "\n",
    "create_dir(file)\n",
    "\n",
    "imagenes = dig_images(url)\n",
    "download_gallery(imagenes)"
   ]
  },
  {
   "cell_type": "code",
   "execution_count": null,
   "metadata": {
    "collapsed": true
   },
   "outputs": [],
   "source": []
  }
 ],
 "metadata": {
  "kernelspec": {
   "display_name": "Python 3",
   "language": "python",
   "name": "python3"
  },
  "language_info": {
   "codemirror_mode": {
    "name": "ipython",
    "version": 3
   },
   "file_extension": ".py",
   "mimetype": "text/x-python",
   "name": "python",
   "nbconvert_exporter": "python",
   "pygments_lexer": "ipython3",
   "version": "3.6.3"
  }
 },
 "nbformat": 4,
 "nbformat_minor": 2
}
