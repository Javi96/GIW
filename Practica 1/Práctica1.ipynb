{
 "cells": [
  {
   "cell_type": "markdown",
   "metadata": {},
   "source": [
    "### Práctica de Introducción al lenguaje Python"
   ]
  },
  {
   "cell_type": "markdown",
   "metadata": {},
   "source": [
    "#### Ejercicio 1[3 puntos]\n",
    "Considerar las monedas y billetes en curso de la Unión Europea. Se pide hacer un programa con  las funciones necesarias para  gestionar un terminal de punto de venta. Concretamente se quiere ayudar al cajero de manera que cuando introduzca el importe de la venta y el dinero entregado por el cliente, el programa muestre las vueltas que debe entregar al cliente de una forma óptima. Las vueltas son óptimas si para pagar una cantidad C se utiliza el menor número posible de monedas o billetes. Se va a suponer que existen monedas y billetes infinitos en el terminal de punto de venta."
   ]
  },
  {
   "cell_type": "code",
   "execution_count": null,
   "metadata": {
    "collapsed": true
   },
   "outputs": [],
   "source": [
    "import math\n",
    "\n",
    "def pedir_datos():\n",
    "    \"\"\"Pide y comprueba los datos de entrada y retorna la cantidad a devolver.\n",
    "    \n",
    "    Variables relevantes:\n",
    "    importe_venta --- coste del producto\n",
    "    dinero_entregado --- dinero para cobrar\n",
    "    \n",
    "    Excepciones: \n",
    "    ValueError --- los datos introducidos no son numéricos\n",
    "    \n",
    "    Retorno: diferencia entre dinero_entregado e importe_venta; la cantidad a devolver\n",
    "    \"\"\"\n",
    "    \n",
    "    while True:\n",
    "        try:\n",
    "            importe_venta = float(input(\"Introduce el importe de la venta:\"))\n",
    "            dinero_entregado = float(input(\"Introduce el dinero entregado:\"))\n",
    "            if importe_venta > 0 and dinero_entregado >= importe_venta:\n",
    "                break\n",
    "            print(\"Los valores introducidos han de ser positivos\")\n",
    "        except ValueError:\n",
    "            print(\"Datos incorrectos, introducelos de nuevo\")\n",
    "    return round(dinero_entregado - importe_venta, 2)\n",
    "\n",
    "def calcular_vueltas(vueltas):\n",
    "    \"\"\"Calcula las monedas usadas para dar el cambio y las imprime por pantalla.\n",
    "    \n",
    "    Parametros de entrada:\n",
    "    vueltas --- dinero a ser devuelto\n",
    "    \n",
    "    Variables relevantes:\n",
    "    monedas --- lista con el sistema monetario usado\n",
    "    cantidad_monedas --- numero de monedas a devolver de cada tipo\n",
    "    \"\"\"\n",
    "    \n",
    "    monedas = [500,200,100,50,20,10,5,2,1,0.50,0.20,0.10,0.05,0.02,0.01]\n",
    "    for i in monedas:\n",
    "        cantidad_monedas = math.trunc((vueltas / i))  # Numero de monedas a devolver de cada tipo\n",
    "        if cantidad_monedas != 0:\n",
    "            if i > 2:\n",
    "                print str(cantidad_monedas) + " billete/s de " + str(i) + " euros"
    "            elif i > 0.5:\n",
    "                print str(cantidad_monedas) + " moneda/s de " + str(i) + " euro/s"
    "            else:\n",
    "                print str(cantidad_monedas) + " moneda/s de " + str(math.trunc(i*100)) + " centimo/s"
    "            vueltas = round(vueltas % i, 2)"
   ]
  },
  {
   "cell_type": "code",
   "execution_count": null,
   "metadata": {
    "collapsed": true
   },
   "outputs": [],
   "source": [
    "print (\"EJERCICIO 1\\n\")\n",
    "vueltas = pedir_datos()\n",
    "if vueltas == 0:\n",
    "    print (\"Dinero entregado exacto\")\n",
    "else:\n",
    "    calcular_vueltas(vueltas)"
   ]
  },
  {
   "cell_type": "markdown",
   "metadata": {},
   "source": [
    "#### Ejercicio 2[3,5 puntos]\n",
    "Considerar un sistema de cifrado en el que se sustituye cada letra en el texto original por otra letra que se encuentra un número fijo de posiciones más adelante en el alfabeto. Por ejemplo si el desplazamiento es 3 posiciones, y se considera la letra A, entonces sería sustituida por la letra D que se encuentra situada 3 lugares a la derecha de la A. Se considera que el alfabeto es circular por lo que a continuación de la Z comienza la letra A. Sólo se codifican las letras, el resto de símbolos se mantienen tal cual. A continuación, una vez cifrado el texto, si éste contiene más de una palabra, entonces se reordenan las palabras cifradas, moviendo cada palabra m posiciones hacia la derecha. Así la palabra que ocupa la posición 1 se mueve a la posición m+1, y así sucesivamente (la palabra que ocupa la posición n se moverá a la posición m). Se pide implementar un programa en Python que solicite al usuario que introduzca por teclado un texto a codificar, dos números que representan el desplazamiento de letras y el desplazamiento de las palabras codificadas. Como resultado, el programa mostrará por pantalla el mensaje codificado. Se deben hacer las comprobaciones necesarias sobre la entrada, es decir que es una cadena y 2 números.\n"
   ]
  },
  {
   "cell_type": "code",
   "execution_count": null,
   "metadata": {
    "collapsed": true
   },
   "outputs": [],
   "source": [
    "def pedir_datos():\n",
    "    \"\"\"Pide y comprueba los datos de entrada y devuelve tanto el texto como los desplazamientos.\n",
    "    \n",
    "    Excepciones: \n",
    "    ValueError --- los datos introducidos no son numéricos\n",
    "    \n",
    "    Retorno: \n",
    "    texto --- mensaje a cifrar\n",
    "    desplazamiento_letras --- indice para modificar las letras del mensaje\n",
    "    desplazamiento_palabras --- indice paara intercambiar la posicion de las palabras\n",
    "    \"\"\"\n",
    "    \n",
    "    texto = input(\"Texto a codificar: \").upper();\n",
    "    while True:\n",
    "        try:\n",
    "            desplazamiento_letras = int(input(\"Desplazamiento para letras: \"))\n",
    "            desplazamiento_palabras = int(input(\"Desplazamiento para palabras: \"))\n",
    "            if desplazamiento_letras >= 0 and desplazamiento_palabras >= 0:\n",
    "                break\n",
    "            print(\"Los desplazamientos han de ser positivos.\")\n",
    "        except ValueError:\n",
    "            print (\"Error en el tipo de dato.\")\n",
    "    return texto, desplazamiento_letras, desplazamiento_palabras\n",
    "    \n",
    "def cifrar_cadena(desplazamiento, texto):\n",
    "    \"\"\"Modifica las letras del mensaje en funcion del desplazamiento y lo devuelve.\n",
    "    \n",
    "    Parametros de entrada:\n",
    "    desplazamiento --- indice para modificar las letras del mensaje\n",
    "    texto --- mensaje a cifrar\n",
    "    \n",
    "    Retorno: \n",
    "    resultado --- mensaje cifrado\n",
    "    \"\"\"\n",
    "    \n",
    "    resultado=\"\"\n",
    "    for x in texto:\n",
    "        code = ord(x)\n",
    "        if (code > 64) and (code < 91):  # Comparamos los valores ASCII. A=64, Z=91\n",
    "            code = code + desplazamiento\n",
    "            if code > 90:\n",
    "                code = code - 90 + 64\n",
    "        resultado = resultado + chr(code)\n",
    "    return resultado\n",
    "\n",
    "def desplazar_cadena(desplazamiento, cadena):\n",
    "    \"\"\"Modifica las palabras del mensaje en funcion del desplazamiento y lo devuelve.\n",
    "    \n",
    "    Parametros de entrada:\n",
    "    desplazamiento --- indice para modificar las palabras del mensaje\n",
    "    cadena --- mensaje a cifrar\n",
    "    \n",
    "    Retorno: \n",
    "    resultado --- mensaje modificado\n",
    "    \"\"\"\n",
    "    \n",
    "    resultado = \"\"\n",
    "    for x in range(0, len(cadena)):\n",
    "        resultado += cadena[(len(cadena) - desplazamiento + x) % len(cadena)] + \" \"\n",
    "    return resultado"
   ]
  },
  {
   "cell_type": "code",
   "execution_count": null,
   "metadata": {},
   "outputs": [],
   "source": [
    "print(\"EJERCICIO 2\\n\")\n",
    "texto, desplazamiento_letras, desplazamiento_palabras = pedir_datos()\n",
    "texto = cifrar_cadena(desplazamiento_letras,texto).split() \n",
    "print (desplazar_cadena(desplazamiento_palabras, texto).lower())"
   ]
  },
  {
   "cell_type": "markdown",
   "metadata": {},
   "source": [
    "#### Ejercicio 3[3,5 puntos]\n",
    "Implementar un programa en Python tal que tomando como entrada el nombre de un archivo de texto, analice el contenido  y escriba otro archivo de salida que muestre el número de veces que aparece cada palabra. Se deben eliminar separadores, conjunciones, artículos y preposiciones."
   ]
  },
  {
   "cell_type": "code",
   "execution_count": null,
   "metadata": {
    "collapsed": true
   },
   "outputs": [],
   "source": [
    "def leer_fichero():\n",
    "    \"\"\"Solicita datos al usuario y lee el fichero. Devuelve el contenido y el nombre del fichero de salida.\n",
    "    \n",
    "    Usamos sentencias with ... as ... que cierran el fichero automaticamente al terminar de usarlo.\n",
    "    \n",
    "    Excepciones: \n",
    "    IOError --- fallo en acciones E/S\n",
    "    \n",
    "    Retorno: \n",
    "    texto --- contenido del fichero de lectura\n",
    "    salida --- nombre del fichero de escritura\n",
    "    \"\"\"\n",
    "    \n",
    "    lectura = str(input(\"Nombre del archivo de entrada: \"))\n",
    "    salida = str(input(\"Nombre del archivo de salida: \"))\n",
    "    with open(lectura, \"r\") as fichero:\n",
    "        texto = fichero.read().lower().replace(\"\\n\", \" \")  # Cambiamos los saltos de linea por espacios\n",
    "    return texto, salida\n",
    "\n",
    "def eliminar_separadores(texto):\n",
    "    \"\"\"Elimina los separadores y devuelve el texto modificado.\n",
    "   \n",
    "    Parametros de entrada:\n",
    "    texto --- mensaje a filtrar\n",
    "\n",
    "    Retorno: \n",
    "    texto --- mensaje sin separadores\n",
    "    \"\"\"\n",
    "    \n",
    "    separadores = [\".\", \",\", \";\", \":\"]\n",
    "    for i in texto:\n",
    "        if(i in separadores):\n",
    "            texto = texto.replace(i, \"\")\n",
    "    return texto\n",
    "\n",
    "def llenar_diccionario(texto):\n",
    "    \"\"\"Añade a un diccionario las palabras del mensaje y lo devuelve.\n",
    "    \n",
    "    Parametros de entrada:\n",
    "    texto --- mensaje a filtrar\n",
    "    \n",
    "    Retorno: \n",
    "    dic --- diccionario con las palabras que no han sido filtradas\n",
    "    \"\"\"\n",
    "    \n",
    "    conjunciones = [\"y\", \"u\", \"o\",\"e\"]\n",
    "    articulos = [\"el\", \"la\", \"los\", \"las\", \"un\", \"una\", \"unos\", \"unas\"]\n",
    "    preposiciones = [\"a\", \"ante\", \"bajo\", \"cabe\", \"con\", \"contra\", \"de\", \"desde\", \"en\", \"entre\", \"hacia\", \n",
    "                     \"hasta\", \"para\", \"por\", \"segun\", \"sin\", \"sobre\", \"tras\", \"durante\", \"mediante\"]\n",
    "    dic={}\n",
    "    for palabra in texto.split():\n",
    "        # Si la palabra esta en alguna de las listas pasamos a la siguiente\n",
    "        if (palabra in conjunciones or palabra in articulos or palabra in preposiciones): pass\n",
    "        else:\n",
    "            x = dic.get(palabra, 0)  # Buscamos la palabra en dic, si no está devuelve 0\n",
    "            if(x==0): \n",
    "                dic[palabra] = 1 \n",
    "            else: \n",
    "                dic[palabra] = x + 1  # Si la palabra ya estaba en dic incrementamos el valor en 1\n",
    "    return dic\n",
    "\n",
    "def escribir_fichero(salida, dic):\n",
    "    \"\"\"Escribe el contenido del diccionario en el fichero.\n",
    "    \n",
    "    Usamos de nuevo la sentencia with...as... que cierra el fichero cuando finaliza su uso. \n",
    "\n",
    "    Parametros de entrada:\n",
    "    salida --- nombre del fichero de salida\n",
    "    dic --- diccionario con las palabras y sus repeticiones en el mensaje\n",
    "    \"\"\"\n",
    "    \n",
    "    with open(salida, \"w\") as fichero:\n",
    "        for x,y in dic.items():  # Sacamos tuplas clave-valor de la lista de elementos del diccionario\n",
    "            fichero.write(str(x) + \" \" + str(y) + \"\\n\")"
   ]
  },
  {
   "cell_type": "code",
   "execution_count": null,
   "metadata": {
    "collapsed": true
   },
   "outputs": [],
   "source": [
    "print(\"EJERCICIO 3\\n\")\n",
    "try:\n",
    "    texto, salida = leer_fichero()\n",
    "    eliminar_separadores(texto)\n",
    "    dic = llenar_diccionario(texto)\n",
    "    escribir_fichero(salida, dic)\n",
    "except:\n",
    "    print(\"Los ficheros proporcionados no son validos\")"
   ]
  },
  {
   "cell_type": "markdown",
   "metadata": {},
   "source": [
    "#### Normas de entrega\n",
    "\n",
    "* Fecha tope de entrega: 13/10/2017\n",
    "* La entrega se realizará subiendo al campus virtual un notebook de Jupyter con la solución. El archivo tendrá como nombre IntroPython_GrupoX donde X será el número de grupo correspondiente."
   ]
  }
 ],
 "metadata": {
  "anaconda-cloud": {},
  "kernelspec": {
   "display_name": "Python 3",
   "language": "python",
   "name": "python3"
  },
  "language_info": {
   "codemirror_mode": {
    "name": "ipython",
    "version": 3
   },
   "file_extension": ".py",
   "mimetype": "text/x-python",
   "name": "python",
   "nbconvert_exporter": "python",
   "pygments_lexer": "ipython3",
   "version": "3.6.2"
  }
 },
 "nbformat": 4,
 "nbformat_minor": 1
}
